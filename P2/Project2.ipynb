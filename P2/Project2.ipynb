{
 "cells": [
  {
   "cell_type": "code",
   "execution_count": 1,
   "metadata": {},
   "outputs": [],
   "source": [
    "import numpy as np\n",
    "# Get k-mers from a sequence\n",
    "def get_kmers(sequence, k):\n",
    "    return [sequence[x:x+k].lower() for x in range(len(sequence) - k + 1)]\n",
    "\n",
    "# Get the frequency of each k-mer in a sequence\n",
    "def freq_kmers(seq, k):\n",
    "    kmers = get_kmers(seq, k)\n",
    "    freq = {}\n",
    "    for kmer in kmers: \n",
    "        if kmer not in freq: \n",
    "            freq[kmer] = 1\n",
    "        else: \n",
    "            freq[kmer] += 1\n",
    "    return freq\n"
   ]
  },
  {
   "cell_type": "code",
   "execution_count": 2,
   "metadata": {},
   "outputs": [],
   "source": [
    "# Implement Spectrum Kernel\n",
    "def spectrum_kernel(seq1, seq2, k):\n",
    "\tfreq1 = freq_kmers(seq1, k)\n",
    "\tfreq2 = freq_kmers(seq2, k)\n",
    "\tfor key in freq1:\n",
    "\t\tif key not in freq2:\n",
    "\t\t\tfreq2[key] = 0\n",
    "\tfor key in freq2:\n",
    "\t\tif key not in freq1:\n",
    "\t\t\tfreq1[key] = 0\n",
    "\tfreq1 = dict( sorted(freq1.items(), key=lambda x: x[0]) )\n",
    "\tfreq2 = dict( sorted(freq2.items(), key=lambda x: x[0]) )\n",
    "\treturn np.dot(list(freq1.values()), list(freq2.values()))"
   ]
  },
  {
   "cell_type": "code",
   "execution_count": 3,
   "metadata": {},
   "outputs": [],
   "source": [
    "# change fasta file into a list of sequences\n",
    "# fasta reader\n",
    "def read_fasta(file):\n",
    "    with open(file, 'r') as f:\n",
    "        lines = f.readlines()\n",
    "    return lines\n",
    "\n",
    "# fasta parser\n",
    "\n",
    "\n",
    "def parse_fasta(lines):\n",
    "    seq_list = []\n",
    "    seq = ''\n",
    "    seq_name = []\n",
    "    for line, index in zip(lines, range(len(lines))):\n",
    "        if index == len(lines) - 1:\n",
    "            seq += line.strip()\n",
    "            seq_list.append(seq)\n",
    "        if line.startswith('>'):\n",
    "            seq_list.append(seq)\n",
    "            seq = ''\n",
    "            name = line.strip()\n",
    "            seq_name.append(name.split(\" /\")[0][1:])\n",
    "            continue\n",
    "        else:\n",
    "            seq += line.strip()\n",
    "    for i in seq_list:\n",
    "        if i == '':\n",
    "            seq_list.remove(i)\n",
    "    return seq_list,seq_name\n"
   ]
  },
  {
   "cell_type": "code",
   "execution_count": 4,
   "metadata": {},
   "outputs": [],
   "source": [
    "seq_list, seq_name = parse_fasta(read_fasta('kmeans.fasta'))"
   ]
  },
  {
   "cell_type": "code",
   "execution_count": 5,
   "metadata": {},
   "outputs": [
    {
     "name": "stdout",
     "output_type": "stream",
     "text": [
      "1951\n"
     ]
    }
   ],
   "source": [
    "\n",
    "print(spectrum_kernel(seq_list[0], seq_list[1], 3))\n"
   ]
  },
  {
   "cell_type": "code",
   "execution_count": 5,
   "metadata": {},
   "outputs": [],
   "source": [
    "def diff(key1,key2):\n",
    "    list1 = list(key1)\n",
    "    list2 = list(key2)\n",
    "    dif = 0\n",
    "    for i in range(len(list1)):\n",
    "        if list1[i] != list2[i]:\n",
    "            dif += 1\n",
    "    return dif"
   ]
  },
  {
   "cell_type": "code",
   "execution_count": 6,
   "metadata": {},
   "outputs": [],
   "source": [
    "# Implement Mismatch Kernel\n",
    "def mismatch_kernel(seq1, seq2, k):\n",
    "\tfreq1 = freq_kmers(seq1, k)\n",
    "\tfreq2 = freq_kmers(seq2, k)\n",
    "\tfor key in freq1:\n",
    "\t\tif key not in freq2:\n",
    "\t\t\tfreq2[key] = 0\n",
    "\tfor key in freq2:\n",
    "\t\tif key not in freq1:\n",
    "\t\t\tfreq1[key] = 0\n",
    "   \n",
    "\tfreq1 = dict( sorted(freq1.items(), key=lambda x: x[0]) )\n",
    "\tfreq2 = dict( sorted(freq2.items(), key=lambda x: x[0]) )\n",
    "\n",
    "\tnewfreq1 = freq1.copy()\n",
    "\tnewfreq2 = freq2.copy()\n",
    "\n",
    "\tfor key1 in freq1:\n",
    "\t\tfor key2 in freq1:\n",
    "\t\t\tdif = diff(key1,key2)\n",
    "\t\t\tif dif == 1 and freq1[key2] == 0:\n",
    "\t\t\t\tnewfreq1[key1] += 1\n",
    "\t\t\tif dif == 1 and freq1[key2] > 0:\n",
    "\t\t\t\tnewfreq1[key1] += freq1[key2]\n",
    "\t\t\t\t\n",
    "\tfor key1 in freq2:\n",
    "\t\tfor key2 in freq2:\n",
    "\t\t\tdif = diff(key1,key2)\n",
    "\t\t\tif dif == 1 and freq2[key2] == 0:\n",
    "\t\t\t\tnewfreq2[key1] += 1\t\n",
    "\t\t\tif dif == 1 and freq2[key2] > 0:\n",
    "\t\t\t\tnewfreq2[key1] += freq2[key2]\n",
    "\n",
    "\treturn np.dot(list(newfreq1.values()), list(newfreq2.values()))"
   ]
  },
  {
   "cell_type": "code",
   "execution_count": 7,
   "metadata": {},
   "outputs": [
    {
     "name": "stdout",
     "output_type": "stream",
     "text": [
      "54\n"
     ]
    }
   ],
   "source": [
    "print(mismatch_kernel('AATCCG', 'AATGCC', 2))"
   ]
  },
  {
   "cell_type": "code",
   "execution_count": 22,
   "metadata": {},
   "outputs": [],
   "source": [
    "#for test\n",
    "seq1 = 'AATCCG'\n",
    "seq2 = 'AATGCC'\n",
    "freq1 = freq_kmers(seq1, 2)\n",
    "freq2 = freq_kmers(seq2, 2)\n",
    "for key in freq1:\n",
    "\tif key not in freq2:\n",
    "\t\tfreq2[key] = 0\n",
    "for key in freq2:\n",
    "\tif key not in freq1:\n",
    "\t\tfreq1[key] = 0\n",
    "   \n",
    "freq1 = dict( sorted(freq1.items(), key=lambda x: x[0]) )\n",
    "freq2 = dict( sorted(freq2.items(), key=lambda x: x[0]) )\n",
    "\n"
   ]
  },
  {
   "cell_type": "code",
   "execution_count": 23,
   "metadata": {},
   "outputs": [],
   "source": [
    "# test only\n",
    "newfreq1 = freq1.copy()\n",
    "newfreq2 = freq2.copy()\n",
    "\n",
    "for key1 in freq1:\n",
    "\tfor key2 in freq1:\n",
    "\t\tdif = diff(key1,key2)\n",
    "\t\tif dif == 1 and freq1[key2] == 0:\n",
    "\t\t\tnewfreq1[key1] += 1\n",
    "\t\tif dif == 1 and freq1[key2] > 0:\n",
    "\t\t\tnewfreq1[key1] += freq1[key2]\n",
    "\t\t\t\t\n",
    "for key1 in freq2:\n",
    "\tfor key2 in freq2:\n",
    "\t\tdif = diff(key1,key2)\n",
    "\t\tif dif == 1 and freq2[key2] == 0:\n",
    "\t\t\tnewfreq2[key1] += 1\t\n",
    "\t\tif dif == 1 and freq2[key2] > 0:\n",
    "\t\t\tnewfreq2[key1] += freq2[key2]\t"
   ]
  },
  {
   "cell_type": "code",
   "execution_count": 24,
   "metadata": {},
   "outputs": [
    {
     "data": {
      "text/plain": [
       "{'aa': 2, 'at': 2, 'cc': 4, 'cg': 3, 'gc': 2, 'tc': 4, 'tg': 2}"
      ]
     },
     "execution_count": 24,
     "metadata": {},
     "output_type": "execute_result"
    }
   ],
   "source": [
    "#test only\n",
    "newfreq1"
   ]
  },
  {
   "cell_type": "code",
   "execution_count": 25,
   "metadata": {},
   "outputs": [
    {
     "data": {
      "text/plain": [
       "{'aa': 2, 'at': 2, 'cc': 4, 'cg': 2, 'gc': 3, 'tc': 3, 'tg': 3}"
      ]
     },
     "execution_count": 25,
     "metadata": {},
     "output_type": "execute_result"
    }
   ],
   "source": [
    "#test only\n",
    "newfreq2"
   ]
  },
  {
   "cell_type": "code",
   "execution_count": null,
   "metadata": {},
   "outputs": [],
   "source": [
    "#KNN\n",
    "def dist(seq1, seq2, k):\n",
    "    return np.sqrt(spectrum_kernel(seq1, seq1, k)-2*spectrum_kernel(seq1, seq2, k)+spectrum_kernel(seq2, seq2, k))\n",
    "\n",
    "def KNN(train, test, knn_num, kmer_size):\n",
    "    seq_train = [] \n",
    "    seq_name_train = []\n",
    "    for path in train:\n",
    "        seq, seq_name = parse_fasta(read_fasta(path))\n",
    "        seq_train += seq\n",
    "        seq_name_train += seq_name\n",
    "    seq_test, seq_name_test = parse_fasta(read_fasta(test))\n",
    "    train_class_list = [\"exons\" if \"exon\" in seq_name_train[i] else \"introns\" for i in range(len(seq_name_train))]\n",
    "    test_true_class_list = [\"exons\" if \"exon\" in seq_name_test[i] else \"introns\" for i in range(len(seq_name_test))]\n",
    "    test_pred_class_list = []\n",
    "    for i in range(len(seq_test)):\n",
    "        dist_list = []\n",
    "        for j in range(len(seq_train)):\n",
    "            dist_list.append(dist(seq_test[i], seq_train[j], kmer_size))\n",
    "        dist_list = np.array(dist_list)\n",
    "        indexes = np.argsort(dist_list)\n",
    "        exons_num = 0\n",
    "        introns_num = 0\n",
    "        for index in indexes[:knn_num]:\n",
    "            if train_class_list[index] == \"exons\":\n",
    "                exons_num += 1\n",
    "            else:\n",
    "                introns_num += 1\n",
    "        if exons_num > introns_num:\n",
    "            test_pred_class_list.append(\"exons\")\n",
    "        else:\n",
    "            test_pred_class_list.append(\"introns\")\n",
    "    correct = 0\n",
    "    for i, j in zip( test_true_class_list, test_pred_class_list):\n",
    "        if i == j:\n",
    "            correct += 1\n",
    "    \n",
    "    accuracy = correct/len(test_true_class_list)\n",
    "\n",
    "    return accuracy"
   ]
  },
  {
   "cell_type": "code",
   "execution_count": null,
   "metadata": {},
   "outputs": [],
   "source": [
    "KNN(train = [\"./KNN/train-exons100.fasta\", \"./KNN/train-exons100.fasta\", \"./KNN/train-exons30.fasta\", \"./KNN/train-introns10.fasta\", \"./KNN/train-introns30.fasta\", \"./KNN/train-introns100.fasta\"], test = \"./KNN/test.fasta\", knn_num = 5, kmer_size = 2)"
   ]
  },
  {
   "cell_type": "code",
   "execution_count": 6,
   "metadata": {},
   "outputs": [],
   "source": [
    "def dist_spectrumkernel(seq1, seq2, k):\n",
    "    return np.sqrt(spectrum_kernel(seq1, seq1, k)-2*spectrum_kernel(seq1, seq2, k)+spectrum_kernel(seq2, seq2, k))\n",
    "\n",
    "def dist_mismatchkernel(seq1, seq2, k):\n",
    "    return np.sqrt(mismatch_kernel(seq1, seq1, k)-2*mismatch_kernel(seq1, seq2, k)+mismatch_kernel(seq2, seq2, k))\n"
   ]
  },
  {
   "cell_type": "code",
   "execution_count": 32,
   "metadata": {},
   "outputs": [],
   "source": [
    "#K-Means\n",
    "\n",
    "def KMeans(seqspath, ncluster, kmer_size, maxniter, distfunc):\n",
    "    \n",
    "    seq_list,seq_names = parse_fasta(read_fasta(seqspath))\n",
    "\n",
    "    \n",
    "\n",
    "    iter = 0\n",
    "    \n",
    "    centroids = np.random.randint(0,len(seq_list),ncluster)\n",
    "    \n",
    "    class_list = [ncluster + 1] * len(seq_list)\n",
    "\n",
    "    while (iter < maxniter):\n",
    "\n",
    "        \n",
    "        centroids_new = centroids.copy()\n",
    "\n",
    "        for i in range(len(seq_list)): #update class for each seq\n",
    "            dist_list = []\n",
    "            for j in centroids_new:\n",
    "                dist_list.append(distfunc(seq_list[i],seq_list[j],kmer_size))\n",
    "            dist_list = np.array(dist_list)\n",
    "            class_list[i] = np.argmin(dist_list)\n",
    "\n",
    "        #update centroids\n",
    "        for i in range(len(centroids_new)):\n",
    "            temp_index_list = []\n",
    "            for j in range(len(class_list)):\n",
    "                if (class_list[j] == i):\n",
    "                    temp_index_list.append(j)\n",
    "            \n",
    "            sumdis_list = []\n",
    "            for j in range(len(temp_index_list)):\n",
    "                sum = 0\n",
    "                for k in range(len(temp_index_list)):\n",
    "                    sum += distfunc(seq_list[j],seq_list[k],kmer_size)\n",
    "                sumdis_list.append(sum)\n",
    "            \n",
    "            sumdis_list = np.array(sumdis_list)\n",
    "        \n",
    "            centroids_new[i] = temp_index_list[np.argmin(sumdis_list)]\n",
    "\n",
    "        iter += 1\n",
    "        if (centroids_new == centroids).all():\n",
    "            break\n",
    "        \n",
    "        centroids = centroids_new.copy()\n",
    "    \n",
    "    return centroids, class_list\n",
    "            \n"
   ]
  },
  {
   "cell_type": "code",
   "execution_count": 33,
   "metadata": {},
   "outputs": [],
   "source": [
    "seqspath = \"kmeans.fasta\"\n",
    "centroids, class_list =  KMeans(seqspath, 3, 3, 100, dist_spectrumkernel)\n",
    "\n"
   ]
  },
  {
   "cell_type": "code",
   "execution_count": 8,
   "metadata": {},
   "outputs": [],
   "source": [
    "seqspath = \"kmeans.fasta\""
   ]
  },
  {
   "cell_type": "code",
   "execution_count": 8,
   "metadata": {},
   "outputs": [],
   "source": [
    "ncluster = 3\n",
    "kmer_size = 3\n",
    "maxniter = 1000\n",
    "\n",
    "seq_list,seq_names = parse_fasta(read_fasta(seqspath))\n",
    "\n",
    "    #train_class_list = [\"exons\" if \"exon\" in seq_name_train[i] else \"introns\" for i in range(len(seq_name_train))]\n",
    "    #test_true_class_list = [\"exons\" if \"exon\" in seq_name_test[i] else \"introns\" for i in range(len(seq_name_test))]\n",
    "    #test_pred_class_list = []\n",
    "\n",
    "iter = 0\n",
    "    \n",
    "centroids = np.random.randint(0,len(seq_list),ncluster)\n",
    "    \n",
    "class_list = [ncluster + 1] * len(seq_list)"
   ]
  },
  {
   "cell_type": "code",
   "execution_count": 9,
   "metadata": {},
   "outputs": [],
   "source": [
    "centroids_new = centroids.copy()\n",
    "\n",
    "for i in range(len(seq_list)): #update class for each seq\n",
    "    dist_list = []\n",
    "    for j in centroids_new:\n",
    "        dist_list.append(dist_spectrumkernel(seq_list[i],seq_list[j],kmer_size))\n",
    "    dist_list = np.array(dist_list)\n",
    "    class_list[i] = np.argmin(dist_list)"
   ]
  },
  {
   "cell_type": "code",
   "execution_count": 27,
   "metadata": {},
   "outputs": [
    {
     "ename": "KeyboardInterrupt",
     "evalue": "",
     "output_type": "error",
     "traceback": [
      "\u001b[0;31m---------------------------------------------------------------------------\u001b[0m",
      "\u001b[0;31mKeyboardInterrupt\u001b[0m                         Traceback (most recent call last)",
      "Cell \u001b[0;32mIn[27], line 10\u001b[0m\n\u001b[1;32m      8\u001b[0m     \u001b[38;5;28msum\u001b[39m \u001b[38;5;241m=\u001b[39m \u001b[38;5;241m0\u001b[39m\n\u001b[1;32m      9\u001b[0m     \u001b[38;5;28;01mfor\u001b[39;00m k \u001b[38;5;129;01min\u001b[39;00m \u001b[38;5;28mrange\u001b[39m(\u001b[38;5;28mlen\u001b[39m(temp_index_list)):\n\u001b[0;32m---> 10\u001b[0m         \u001b[38;5;28msum\u001b[39m \u001b[38;5;241m+\u001b[39m\u001b[38;5;241m=\u001b[39m \u001b[43mdist_spectrumkernel\u001b[49m\u001b[43m(\u001b[49m\u001b[43mseq_list\u001b[49m\u001b[43m[\u001b[49m\u001b[43mj\u001b[49m\u001b[43m]\u001b[49m\u001b[43m,\u001b[49m\u001b[43mseq_list\u001b[49m\u001b[43m[\u001b[49m\u001b[43mk\u001b[49m\u001b[43m]\u001b[49m\u001b[43m,\u001b[49m\u001b[43mkmer_size\u001b[49m\u001b[43m)\u001b[49m\n\u001b[1;32m     11\u001b[0m     sumdis_list\u001b[38;5;241m.\u001b[39mappend(\u001b[38;5;28msum\u001b[39m)\n\u001b[1;32m     13\u001b[0m sumdis_list \u001b[38;5;241m=\u001b[39m np\u001b[38;5;241m.\u001b[39marray(sumdis_list)\n",
      "Cell \u001b[0;32mIn[12], line 2\u001b[0m, in \u001b[0;36mdist_spectrumkernel\u001b[0;34m(seq1, seq2, k)\u001b[0m\n\u001b[1;32m      1\u001b[0m \u001b[38;5;28;01mdef\u001b[39;00m \u001b[38;5;21mdist_spectrumkernel\u001b[39m(seq1, seq2, k):\n\u001b[0;32m----> 2\u001b[0m     \u001b[38;5;28;01mreturn\u001b[39;00m np\u001b[38;5;241m.\u001b[39msqrt(\u001b[43mspectrum_kernel\u001b[49m\u001b[43m(\u001b[49m\u001b[43mseq1\u001b[49m\u001b[43m,\u001b[49m\u001b[43m \u001b[49m\u001b[43mseq1\u001b[49m\u001b[43m,\u001b[49m\u001b[43m \u001b[49m\u001b[43mk\u001b[49m\u001b[43m)\u001b[49m\u001b[38;5;241m-\u001b[39m\u001b[38;5;241m2\u001b[39m\u001b[38;5;241m*\u001b[39mspectrum_kernel(seq1, seq2, k)\u001b[38;5;241m+\u001b[39mspectrum_kernel(seq2, seq2, k))\n",
      "Cell \u001b[0;32mIn[4], line 4\u001b[0m, in \u001b[0;36mspectrum_kernel\u001b[0;34m(seq1, seq2, k)\u001b[0m\n\u001b[1;32m      2\u001b[0m \u001b[38;5;28;01mdef\u001b[39;00m \u001b[38;5;21mspectrum_kernel\u001b[39m(seq1, seq2, k):\n\u001b[1;32m      3\u001b[0m \tfreq1 \u001b[38;5;241m=\u001b[39m freq_kmers(seq1, k)\n\u001b[0;32m----> 4\u001b[0m \tfreq2 \u001b[38;5;241m=\u001b[39m \u001b[43mfreq_kmers\u001b[49m\u001b[43m(\u001b[49m\u001b[43mseq2\u001b[49m\u001b[43m,\u001b[49m\u001b[43m \u001b[49m\u001b[43mk\u001b[49m\u001b[43m)\u001b[49m\n\u001b[1;32m      5\u001b[0m \t\u001b[38;5;28;01mfor\u001b[39;00m key \u001b[38;5;129;01min\u001b[39;00m freq1:\n\u001b[1;32m      6\u001b[0m \t\t\u001b[38;5;28;01mif\u001b[39;00m key \u001b[38;5;129;01mnot\u001b[39;00m \u001b[38;5;129;01min\u001b[39;00m freq2:\n",
      "Cell \u001b[0;32mIn[3], line 8\u001b[0m, in \u001b[0;36mfreq_kmers\u001b[0;34m(seq, k)\u001b[0m\n\u001b[1;32m      7\u001b[0m \u001b[38;5;28;01mdef\u001b[39;00m \u001b[38;5;21mfreq_kmers\u001b[39m(seq, k):\n\u001b[0;32m----> 8\u001b[0m     kmers \u001b[38;5;241m=\u001b[39m \u001b[43mget_kmers\u001b[49m\u001b[43m(\u001b[49m\u001b[43mseq\u001b[49m\u001b[43m,\u001b[49m\u001b[43m \u001b[49m\u001b[43mk\u001b[49m\u001b[43m)\u001b[49m\n\u001b[1;32m      9\u001b[0m     freq \u001b[38;5;241m=\u001b[39m {}\n\u001b[1;32m     10\u001b[0m     \u001b[38;5;28;01mfor\u001b[39;00m kmer \u001b[38;5;129;01min\u001b[39;00m kmers: \n",
      "Cell \u001b[0;32mIn[3], line 4\u001b[0m, in \u001b[0;36mget_kmers\u001b[0;34m(sequence, k)\u001b[0m\n\u001b[1;32m      3\u001b[0m \u001b[38;5;28;01mdef\u001b[39;00m \u001b[38;5;21mget_kmers\u001b[39m(sequence, k):\n\u001b[0;32m----> 4\u001b[0m     \u001b[38;5;28;01mreturn\u001b[39;00m [sequence[x:x\u001b[38;5;241m+\u001b[39mk]\u001b[38;5;241m.\u001b[39mlower() \u001b[38;5;28;01mfor\u001b[39;00m x \u001b[38;5;129;01min\u001b[39;00m \u001b[38;5;28mrange\u001b[39m(\u001b[38;5;28mlen\u001b[39m(sequence) \u001b[38;5;241m-\u001b[39m k \u001b[38;5;241m+\u001b[39m \u001b[38;5;241m1\u001b[39m)]\n",
      "Cell \u001b[0;32mIn[3], line 4\u001b[0m, in \u001b[0;36m<listcomp>\u001b[0;34m(.0)\u001b[0m\n\u001b[1;32m      3\u001b[0m \u001b[38;5;28;01mdef\u001b[39;00m \u001b[38;5;21mget_kmers\u001b[39m(sequence, k):\n\u001b[0;32m----> 4\u001b[0m     \u001b[38;5;28;01mreturn\u001b[39;00m [\u001b[43msequence\u001b[49m\u001b[43m[\u001b[49m\u001b[43mx\u001b[49m\u001b[43m:\u001b[49m\u001b[43mx\u001b[49m\u001b[38;5;241;43m+\u001b[39;49m\u001b[43mk\u001b[49m\u001b[43m]\u001b[49m\u001b[38;5;241;43m.\u001b[39;49m\u001b[43mlower\u001b[49m\u001b[43m(\u001b[49m\u001b[43m)\u001b[49m \u001b[38;5;28;01mfor\u001b[39;00m x \u001b[38;5;129;01min\u001b[39;00m \u001b[38;5;28mrange\u001b[39m(\u001b[38;5;28mlen\u001b[39m(sequence) \u001b[38;5;241m-\u001b[39m k \u001b[38;5;241m+\u001b[39m \u001b[38;5;241m1\u001b[39m)]\n",
      "\u001b[0;31mKeyboardInterrupt\u001b[0m: "
     ]
    }
   ],
   "source": [
    "for i in range(len(centroids_new)):\n",
    "    temp_index_list = []\n",
    "    for j in range(len(class_list)):\n",
    "        if (class_list[j] == i):\n",
    "            temp_index_list.append(j)          \n",
    "    sumdis_list = []\n",
    "    for j in range(len(temp_index_list)):\n",
    "        sum = 0\n",
    "        for k in range(len(temp_index_list)):\n",
    "            sum += dist_spectrumkernel(seq_list[j],seq_list[k],kmer_size)\n",
    "        sumdis_list.append(sum)\n",
    "            \n",
    "    sumdis_list = np.array(sumdis_list)\n",
    "        \n",
    "    centroids_new[i] = temp_index_list[np.argmin(sumdis_list)]\n"
   ]
  },
  {
   "cell_type": "code",
   "execution_count": 10,
   "metadata": {},
   "outputs": [],
   "source": [
    "i = 0\n",
    "temp_index_list = []\n",
    "for j in range(len(class_list)):\n",
    "    if (class_list[j] == i):\n",
    "        temp_index_list.append(j)          \n",
    "sumdis_list = []\n",
    "for j in range(len(temp_index_list)):\n",
    "    sum = 0\n",
    "    for k in range(len(temp_index_list)):\n",
    "        sum += dist_spectrumkernel(seq_list[j],seq_list[k],kmer_size)\n",
    "    sumdis_list.append(sum)            \n",
    "sumdis_list = np.array(sumdis_list)\n",
    "centroids_new[i] = temp_index_list[np.argmin(sumdis_list)]"
   ]
  },
  {
   "cell_type": "code",
   "execution_count": 36,
   "metadata": {},
   "outputs": [],
   "source": [
    "# Mismatch Kernel for each seq, return a list of kmers+counts\n",
    "def getmismatchkernel(seq_list, k):\n",
    "    freq_list = [] #kmers + counts\n",
    "    allkmers = {}\n",
    "    for i in range(len(seq_list)):\n",
    "        freq = freq_kmers(seq_list[i],k)\n",
    "        freq_list.append(freq)\n",
    "        for key in freq:\n",
    "            if key not in allkmers:\n",
    "               allkmers[key] = key\n",
    "\n",
    "    for i in range(len(freq_list)):#each dict in freq_list has the union of kmers\n",
    "        for key in allkmers:\n",
    "            if key not in freq_list[i]:\n",
    "                freq_list[i][key] = 0\n",
    "        freq_list[i] = dict(sorted(freq_list[i].items(), key=lambda x: x[0]))\n",
    "    freq_list_new = freq_list.copy()  #update occurences with 1 mismatch allowed\n",
    "    for i in range(len(freq_list_new)):\n",
    "        for key1 in freq_list_new[i]:\n",
    "            for key2 in freq_list_new[i]:\n",
    "                dif = diff(key1,key2)\n",
    "                if dif == 1 and freq_list[i][key2] == 0:\n",
    "                    freq_list_new[i][key1] += 1\n",
    "                if dif == 1 and freq_list[i][key2] > 0:\n",
    "                    freq_list_new[i][key1] += freq_list[i][key2]\n",
    "    return freq_list_new\n"
   ]
  },
  {
   "cell_type": "code",
   "execution_count": 16,
   "metadata": {},
   "outputs": [],
   "source": [
    "def getdistance(freq1,freq2):\n",
    "    distance1 = np.dot(list(freq1.values()), list(freq1.values()))\n",
    "    distance12 = np.dot(list(freq1.values()), list(freq2.values()))\n",
    "    distance2 = np.dot(list(freq2.values()), list(freq2.values()))\n",
    "    return np.sqrt(distance1 - 2 * distance12 + distance2)\n",
    "    \n",
    "    \n"
   ]
  },
  {
   "cell_type": "code",
   "execution_count": null,
   "metadata": {},
   "outputs": [],
   "source": [
    "#K-Means\n",
    "\n",
    "def KMeans_v2_mismatch(seqspath, ncluster, kmer_size, maxniter):\n",
    "    \n",
    "    seq_list,seq_names = parse_fasta(read_fasta(seqspath))\n",
    "\n",
    "    freq_list = getmismatchkernel(seq_list, kmer_size)\n",
    "\n",
    "    # train_class_list = [\"exons\" if \"exon\" in seq_name_train[i] else \"introns\" for i in range(len(seq_name_train))]\n",
    "    # test_true_class_list = [\"exons\" if \"exon\" in seq_name_test[i] else \"introns\" for i in range(len(seq_name_test))]\n",
    "    # test_pred_class_list = []\n",
    "\n",
    "    iter = 0\n",
    "\n",
    "    # list: freq of kmers\n",
    "    \n",
    "\n",
    "    \n",
    "    centroids = [freq_list[i] for i in np.random.randint(0,len(seq_list),ncluster)]\n",
    "    \n",
    "    class_list = [ncluster + 1] * len(seq_list)\n",
    "\n",
    "    class_list_new = class_list.copy()\n",
    "    centroids_new = centroids.copy()\n",
    "\n",
    "    while (iter < maxniter):\n",
    "\n",
    "    \n",
    "\n",
    "        for i in range(len(freq_list)): #update class for each freq\n",
    "            dist_list = []\n",
    "            for j in range(len(centroids_new)):\n",
    "                dist_list.append(getdistance(freq_list[i],centroids_new[j]))\n",
    "            dist_list = np.array(dist_list)\n",
    "            class_list_new[i] = np.argmin(dist_list)\n",
    "\n",
    "        #update centroids\n",
    "        for i in range(len(centroids_new)):\n",
    "            flag = True\n",
    "            for j in range(len(class_list_new)):\n",
    "                if (flag and class_list_new[j] == i):\n",
    "                    centroids_new[i] = freq_list[j]\n",
    "                    flag = False\n",
    "                if (not flag) and class_list_new[j] == i:\n",
    "                    for key in centroids_new[i]:\n",
    "                        centroids_new[i][key] += freq_list[j][key]\n",
    "            for key in centroids_new[i]:\n",
    "                centroids_new[i][key] = centroids_new[i][key]/(j + 1)\n",
    "\n",
    "\n",
    "        iter += 1\n",
    "        if (class_list_new == class_list).all():\n",
    "            break\n",
    "        \n",
    "        class_list = class_list_new.copy()\n",
    "    \n",
    "    return class_list\n",
    "            \n",
    "\n",
    "           \n",
    "                    \n",
    "            \n",
    "\n",
    "            \n",
    "\n",
    "    \n",
    "   "
   ]
  },
  {
   "cell_type": "code",
   "execution_count": 37,
   "metadata": {},
   "outputs": [],
   "source": [
    "seq_list,seq_names = parse_fasta(read_fasta(seqspath))\n",
    "kmer_size = 3\n",
    "freq_list = getmismatchkernel(seq_list, kmer_size)\n"
   ]
  },
  {
   "cell_type": "code",
   "execution_count": 41,
   "metadata": {},
   "outputs": [],
   "source": [
    "iter = 0\n",
    "ncluster = 3\n",
    "centroids = [freq_list[i] for i in np.random.randint(0,len(seq_list),ncluster)]\n",
    "    \n",
    "class_list = [ncluster + 1] * len(seq_list)\n",
    "\n",
    "class_list_new = class_list.copy()\n",
    "centroids_new = centroids.copy()\n"
   ]
  },
  {
   "cell_type": "code",
   "execution_count": 51,
   "metadata": {},
   "outputs": [],
   "source": [
    "for i in range(len(freq_list)): #update class for each freq\n",
    "    dist_list = []\n",
    "    for j in range(len(centroids_new)):\n",
    "        dist_list.append(getdistance(freq_list[i],centroids_new[j]))\n",
    "    dist_list = np.array(dist_list)\n",
    "    class_list_new[i] = np.argmin(dist_list)\n"
   ]
  },
  {
   "cell_type": "code",
   "execution_count": 53,
   "metadata": {},
   "outputs": [],
   "source": [
    "for i in range(len(centroids_new)):\n",
    "    flag = True\n",
    "    for j in range(len(class_list_new)):\n",
    "        if (flag and class_list_new[j] == i):\n",
    "            centroids_new[i] = freq_list[j]\n",
    "            flag = False\n",
    "        if (not flag) and class_list_new[j] == i:\n",
    "            for key in centroids_new[i]:\n",
    "                centroids_new[i][key] += freq_list[j][key]\n",
    "    for key in centroids_new[i]:\n",
    "        centroids_new[i][key] = centroids_new[i][key]/(j + 1)\n"
   ]
  },
  {
   "cell_type": "code",
   "execution_count": 57,
   "metadata": {},
   "outputs": [],
   "source": [
    "iter += 1\n",
    "(class_list_new == class_list)\n",
    "\n",
    "        \n",
    "class_list = class_list_new.copy()"
   ]
  },
  {
   "cell_type": "code",
   "execution_count": null,
   "metadata": {},
   "outputs": [],
   "source": []
  }
 ],
 "metadata": {
  "kernelspec": {
   "display_name": "Python 3 (ipykernel)",
   "language": "python",
   "name": "python3"
  },
  "orig_nbformat": 4,
  "vscode": {
   "interpreter": {
    "hash": "2ef13d6c1921d3ae3a97997613d372b0852ad38afe2ed4d943ff3afaf878162c"
   }
  }
 },
 "nbformat": 4,
 "nbformat_minor": 2
}
