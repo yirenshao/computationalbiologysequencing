{
 "cells": [
  {
   "cell_type": "markdown",
   "metadata": {},
   "source": [
    "## 1 hot Encoding"
   ]
  },
  {
   "cell_type": "code",
   "execution_count": 1,
   "metadata": {
    "tags": []
   },
   "outputs": [],
   "source": [
    "import numpy as np\n",
    "\n",
    "# Define the RNA alphabet\n",
    "rna_alphabet = ['A', 'C', 'G', 'T']\n",
    "\n",
    "\n",
    "def rna_to_one_hot(rna_sequence):\n",
    "    \"\"\"\n",
    "    Converts an RNA sequence to a 1-hot encoded matrix.\n",
    "\n",
    "    Parameters:\n",
    "        rna_sequence (str): RNA sequence to be converted.\n",
    "\n",
    "    Returns:\n",
    "        numpy.ndarray: 1-hot encoded matrix of the RNA sequence.\n",
    "    \"\"\"\n",
    "    # Initialize an empty matrix with the correct dimensions\n",
    "    one_hot = np.zeros((len(rna_sequence), len(rna_alphabet)), dtype=int)\n",
    "\n",
    "    # Iterate through each nucleotide in the RNA sequence\n",
    "    for i, nucleotide in enumerate(rna_sequence):\n",
    "        if nucleotide == \"N\":\n",
    "            continue\n",
    "        # Find the index of the nucleotide in the RNA alphabet\n",
    "        j = rna_alphabet.index(nucleotide)\n",
    "        # Set the corresponding element in the 1-hot matrix to 1\n",
    "        one_hot[i, j] = 1\n",
    "\n",
    "    return one_hot\n"
   ]
  },
  {
   "cell_type": "markdown",
   "metadata": {},
   "source": [
    "## Read file"
   ]
  },
  {
   "cell_type": "code",
   "execution_count": 2,
   "metadata": {
    "tags": []
   },
   "outputs": [],
   "source": [
    "# change fasta file into a list of sequences\n",
    "# fasta reader\n",
    "def read_fasta(file):\n",
    "    with open(file, 'r') as f:\n",
    "        lines = f.readlines()\n",
    "    return lines\n",
    "\n",
    "# fasta parser\n",
    "\n",
    "\n",
    "def parse_fasta(lines):\n",
    "    seq_list = []\n",
    "    seq_name = [int(line[-2]) for line in lines if line.startswith('>')]\n",
    "    seq = ''\n",
    "    for line, index in zip(lines, range(len(lines))):\n",
    "        if index == len(lines) - 1:\n",
    "            seq += line.strip()\n",
    "            seq_list.append(seq)\n",
    "        if line.startswith('>'):\n",
    "            seq_list.append(seq)\n",
    "            seq = ''\n",
    "            continue\n",
    "        else:\n",
    "            seq += line.strip()\n",
    "    for i in seq_list:\n",
    "        if i == '':\n",
    "            seq_list.remove(i)\n",
    "    return seq_list, seq_name"
   ]
  },
  {
   "cell_type": "markdown",
   "metadata": {},
   "source": [
    "## Sim 1"
   ]
  },
  {
   "cell_type": "code",
   "execution_count": 3,
   "metadata": {
    "tags": []
   },
   "outputs": [],
   "source": [
    "x_train, y_train = parse_fasta(read_fasta('./sim1/train.fasta'))\n",
    "x_train = [rna_to_one_hot(i) for i in x_train]\n",
    "x_train = np.array(x_train)\n",
    "y_train = np.array(y_train)\n",
    "\n",
    "x_validation, y_validation = parse_fasta(read_fasta('./sim1/validation.fasta'))\n",
    "x_validation = [rna_to_one_hot(i) for i in x_validation]\n",
    "x_validation = np.array(x_validation)\n",
    "y_validation = np.array(y_validation)\n",
    "\n",
    "x_test, y_test = parse_fasta(read_fasta('./sim1/test.fasta'))\n",
    "x_test = [rna_to_one_hot(i) for i in x_test]\n",
    "x_test = np.array(x_test)\n",
    "y_test = np.array(y_test)"
   ]
  },
  {
   "cell_type": "code",
   "execution_count": 4,
   "metadata": {
    "collapsed": true,
    "jupyter": {
     "outputs_hidden": true
    },
    "tags": []
   },
   "outputs": [
    {
     "name": "stderr",
     "output_type": "stream",
     "text": [
      "2023-04-08 14:06:35.069841: I tensorflow/tsl/cuda/cudart_stub.cc:28] Could not find cuda drivers on your machine, GPU will not be used.\n",
      "2023-04-08 14:06:35.501463: I tensorflow/tsl/cuda/cudart_stub.cc:28] Could not find cuda drivers on your machine, GPU will not be used.\n",
      "2023-04-08 14:06:35.502876: I tensorflow/core/platform/cpu_feature_guard.cc:182] This TensorFlow binary is optimized to use available CPU instructions in performance-critical operations.\n",
      "To enable the following instructions: AVX2 AVX512F FMA, in other operations, rebuild TensorFlow with the appropriate compiler flags.\n",
      "2023-04-08 14:06:41.070452: W tensorflow/compiler/tf2tensorrt/utils/py_utils.cc:38] TF-TRT Warning: Could not find TensorRT\n"
     ]
    },
    {
     "name": "stdout",
     "output_type": "stream",
     "text": [
      "Epoch 1/100\n",
      "157/157 [==============================] - 3s 16ms/step - loss: 0.7079 - accuracy: 0.4920 - val_loss: 0.6934 - val_accuracy: 0.5019\n",
      "Epoch 2/100\n",
      "157/157 [==============================] - 2s 13ms/step - loss: 0.6935 - accuracy: 0.5046 - val_loss: 0.6853 - val_accuracy: 0.5652\n",
      "Epoch 3/100\n",
      "157/157 [==============================] - 2s 13ms/step - loss: 0.6784 - accuracy: 0.5742 - val_loss: 0.6616 - val_accuracy: 0.5877\n",
      "Epoch 4/100\n",
      "157/157 [==============================] - 2s 13ms/step - loss: 0.5904 - accuracy: 0.6844 - val_loss: 0.4791 - val_accuracy: 0.7990\n",
      "Epoch 5/100\n",
      "157/157 [==============================] - 2s 14ms/step - loss: 0.3229 - accuracy: 0.8990 - val_loss: 0.1970 - val_accuracy: 0.9567\n",
      "Epoch 6/100\n",
      "157/157 [==============================] - 2s 13ms/step - loss: 0.1362 - accuracy: 0.9721 - val_loss: 0.1175 - val_accuracy: 0.9786\n",
      "Epoch 7/100\n",
      "157/157 [==============================] - 2s 13ms/step - loss: 0.0673 - accuracy: 0.9887 - val_loss: 0.0648 - val_accuracy: 0.9890\n",
      "Epoch 8/100\n",
      "157/157 [==============================] - 2s 13ms/step - loss: 0.0326 - accuracy: 0.9977 - val_loss: 0.0404 - val_accuracy: 0.9907\n",
      "Epoch 9/100\n",
      "157/157 [==============================] - 2s 13ms/step - loss: 0.0171 - accuracy: 0.9994 - val_loss: 0.0297 - val_accuracy: 0.9944\n",
      "Epoch 10/100\n",
      "157/157 [==============================] - 2s 13ms/step - loss: 0.0099 - accuracy: 0.9998 - val_loss: 0.0248 - val_accuracy: 0.9947\n",
      "Epoch 11/100\n",
      "157/157 [==============================] - 2s 13ms/step - loss: 0.0063 - accuracy: 0.9999 - val_loss: 0.0217 - val_accuracy: 0.9948\n",
      "Epoch 12/100\n",
      "157/157 [==============================] - 2s 13ms/step - loss: 0.0044 - accuracy: 1.0000 - val_loss: 0.0203 - val_accuracy: 0.9945\n",
      "Epoch 13/100\n",
      "157/157 [==============================] - 2s 13ms/step - loss: 0.0032 - accuracy: 1.0000 - val_loss: 0.0192 - val_accuracy: 0.9942\n",
      "Epoch 14/100\n",
      "157/157 [==============================] - 2s 13ms/step - loss: 0.0024 - accuracy: 1.0000 - val_loss: 0.0174 - val_accuracy: 0.9952\n",
      "Epoch 15/100\n",
      "157/157 [==============================] - 2s 13ms/step - loss: 0.0019 - accuracy: 1.0000 - val_loss: 0.0166 - val_accuracy: 0.9953\n",
      "Epoch 16/100\n",
      "157/157 [==============================] - 2s 12ms/step - loss: 0.0015 - accuracy: 1.0000 - val_loss: 0.0153 - val_accuracy: 0.9958\n",
      "Epoch 17/100\n",
      "157/157 [==============================] - 2s 13ms/step - loss: 0.0012 - accuracy: 1.0000 - val_loss: 0.0159 - val_accuracy: 0.9952\n",
      "Epoch 18/100\n",
      "157/157 [==============================] - 2s 13ms/step - loss: 0.0010 - accuracy: 1.0000 - val_loss: 0.0143 - val_accuracy: 0.9959\n",
      "Epoch 19/100\n",
      "157/157 [==============================] - 2s 13ms/step - loss: 8.5490e-04 - accuracy: 1.0000 - val_loss: 0.0154 - val_accuracy: 0.9954\n",
      "Epoch 20/100\n",
      "157/157 [==============================] - 2s 13ms/step - loss: 7.2150e-04 - accuracy: 1.0000 - val_loss: 0.0156 - val_accuracy: 0.9951\n",
      "Epoch 21/100\n",
      "157/157 [==============================] - 2s 13ms/step - loss: 6.1863e-04 - accuracy: 1.0000 - val_loss: 0.0142 - val_accuracy: 0.9958\n",
      "Epoch 22/100\n",
      "157/157 [==============================] - 2s 13ms/step - loss: 5.2848e-04 - accuracy: 1.0000 - val_loss: 0.0131 - val_accuracy: 0.9963\n",
      "Epoch 23/100\n",
      "157/157 [==============================] - 2s 12ms/step - loss: 4.5472e-04 - accuracy: 1.0000 - val_loss: 0.0140 - val_accuracy: 0.9956\n",
      "Epoch 24/100\n",
      "157/157 [==============================] - 2s 13ms/step - loss: 3.9516e-04 - accuracy: 1.0000 - val_loss: 0.0137 - val_accuracy: 0.9959\n",
      "Epoch 25/100\n",
      "157/157 [==============================] - 2s 13ms/step - loss: 3.4408e-04 - accuracy: 1.0000 - val_loss: 0.0125 - val_accuracy: 0.9966\n",
      "Epoch 26/100\n",
      "157/157 [==============================] - 2s 12ms/step - loss: 3.0012e-04 - accuracy: 1.0000 - val_loss: 0.0117 - val_accuracy: 0.9965\n",
      "Epoch 27/100\n",
      "157/157 [==============================] - 2s 12ms/step - loss: 2.6452e-04 - accuracy: 1.0000 - val_loss: 0.0128 - val_accuracy: 0.9961\n",
      "Epoch 28/100\n",
      "157/157 [==============================] - 2s 13ms/step - loss: 2.3192e-04 - accuracy: 1.0000 - val_loss: 0.0112 - val_accuracy: 0.9966\n",
      "Epoch 29/100\n",
      "157/157 [==============================] - 2s 13ms/step - loss: 2.0686e-04 - accuracy: 1.0000 - val_loss: 0.0122 - val_accuracy: 0.9965\n",
      "Epoch 30/100\n",
      "157/157 [==============================] - 2s 13ms/step - loss: 1.8305e-04 - accuracy: 1.0000 - val_loss: 0.0118 - val_accuracy: 0.9966\n",
      "Epoch 31/100\n",
      "157/157 [==============================] - 2s 13ms/step - loss: 1.6228e-04 - accuracy: 1.0000 - val_loss: 0.0121 - val_accuracy: 0.9964\n",
      "Epoch 32/100\n",
      "157/157 [==============================] - 2s 13ms/step - loss: 1.4404e-04 - accuracy: 1.0000 - val_loss: 0.0111 - val_accuracy: 0.9967\n",
      "Epoch 33/100\n",
      "157/157 [==============================] - 2s 13ms/step - loss: 1.2857e-04 - accuracy: 1.0000 - val_loss: 0.0111 - val_accuracy: 0.9967\n",
      "Epoch 34/100\n",
      "157/157 [==============================] - 2s 13ms/step - loss: 1.1519e-04 - accuracy: 1.0000 - val_loss: 0.0109 - val_accuracy: 0.9968\n",
      "Epoch 35/100\n",
      "157/157 [==============================] - 2s 13ms/step - loss: 1.0278e-04 - accuracy: 1.0000 - val_loss: 0.0104 - val_accuracy: 0.9969\n",
      "Epoch 36/100\n",
      "157/157 [==============================] - 2s 13ms/step - loss: 9.2125e-05 - accuracy: 1.0000 - val_loss: 0.0108 - val_accuracy: 0.9969\n",
      "Epoch 37/100\n",
      "157/157 [==============================] - 2s 12ms/step - loss: 8.2570e-05 - accuracy: 1.0000 - val_loss: 0.0112 - val_accuracy: 0.9968\n",
      "Epoch 38/100\n",
      "157/157 [==============================] - 2s 12ms/step - loss: 7.4330e-05 - accuracy: 1.0000 - val_loss: 0.0107 - val_accuracy: 0.9969\n",
      "Epoch 39/100\n",
      "157/157 [==============================] - 2s 12ms/step - loss: 6.6938e-05 - accuracy: 1.0000 - val_loss: 0.0108 - val_accuracy: 0.9969\n",
      "Epoch 40/100\n",
      "157/157 [==============================] - 2s 13ms/step - loss: 6.0543e-05 - accuracy: 1.0000 - val_loss: 0.0107 - val_accuracy: 0.9969\n",
      "Epoch 41/100\n",
      "157/157 [==============================] - 2s 13ms/step - loss: 5.4138e-05 - accuracy: 1.0000 - val_loss: 0.0109 - val_accuracy: 0.9969\n",
      "Epoch 42/100\n",
      "157/157 [==============================] - 2s 13ms/step - loss: 4.8946e-05 - accuracy: 1.0000 - val_loss: 0.0106 - val_accuracy: 0.9969\n",
      "Epoch 43/100\n",
      "157/157 [==============================] - 2s 13ms/step - loss: 4.4152e-05 - accuracy: 1.0000 - val_loss: 0.0107 - val_accuracy: 0.9969\n",
      "Epoch 44/100\n",
      "157/157 [==============================] - 2s 13ms/step - loss: 4.0048e-05 - accuracy: 1.0000 - val_loss: 0.0102 - val_accuracy: 0.9970\n",
      "Epoch 45/100\n",
      "157/157 [==============================] - 2s 13ms/step - loss: 3.6051e-05 - accuracy: 1.0000 - val_loss: 0.0097 - val_accuracy: 0.9972\n",
      "Epoch 46/100\n",
      "157/157 [==============================] - 2s 13ms/step - loss: 3.2751e-05 - accuracy: 1.0000 - val_loss: 0.0102 - val_accuracy: 0.9970\n",
      "Epoch 47/100\n",
      "157/157 [==============================] - 2s 13ms/step - loss: 2.9562e-05 - accuracy: 1.0000 - val_loss: 0.0104 - val_accuracy: 0.9969\n",
      "Epoch 48/100\n",
      "157/157 [==============================] - 2s 13ms/step - loss: 2.6855e-05 - accuracy: 1.0000 - val_loss: 0.0100 - val_accuracy: 0.9970\n",
      "Epoch 49/100\n",
      "157/157 [==============================] - 2s 13ms/step - loss: 2.4329e-05 - accuracy: 1.0000 - val_loss: 0.0102 - val_accuracy: 0.9969\n",
      "Epoch 50/100\n",
      "157/157 [==============================] - 2s 14ms/step - loss: 2.2138e-05 - accuracy: 1.0000 - val_loss: 0.0097 - val_accuracy: 0.9972\n",
      "Epoch 51/100\n",
      "157/157 [==============================] - 2s 13ms/step - loss: 1.9987e-05 - accuracy: 1.0000 - val_loss: 0.0096 - val_accuracy: 0.9972\n",
      "Epoch 52/100\n",
      "157/157 [==============================] - 2s 13ms/step - loss: 1.8147e-05 - accuracy: 1.0000 - val_loss: 0.0099 - val_accuracy: 0.9970\n",
      "Epoch 53/100\n",
      "157/157 [==============================] - 2s 13ms/step - loss: 1.6515e-05 - accuracy: 1.0000 - val_loss: 0.0099 - val_accuracy: 0.9972\n",
      "Epoch 54/100\n",
      "157/157 [==============================] - 2s 13ms/step - loss: 1.5008e-05 - accuracy: 1.0000 - val_loss: 0.0097 - val_accuracy: 0.9972\n",
      "Epoch 55/100\n",
      "157/157 [==============================] - 2s 13ms/step - loss: 1.3714e-05 - accuracy: 1.0000 - val_loss: 0.0096 - val_accuracy: 0.9972\n",
      "Epoch 56/100\n",
      "157/157 [==============================] - 2s 13ms/step - loss: 1.2409e-05 - accuracy: 1.0000 - val_loss: 0.0088 - val_accuracy: 0.9974\n",
      "Epoch 57/100\n",
      "157/157 [==============================] - 2s 13ms/step - loss: 1.1272e-05 - accuracy: 1.0000 - val_loss: 0.0096 - val_accuracy: 0.9973\n",
      "Epoch 58/100\n",
      "157/157 [==============================] - 2s 13ms/step - loss: 1.0284e-05 - accuracy: 1.0000 - val_loss: 0.0093 - val_accuracy: 0.9972\n",
      "Epoch 59/100\n",
      "157/157 [==============================] - 2s 13ms/step - loss: 9.3856e-06 - accuracy: 1.0000 - val_loss: 0.0089 - val_accuracy: 0.9974\n",
      "Epoch 60/100\n",
      "157/157 [==============================] - 2s 13ms/step - loss: 8.5245e-06 - accuracy: 1.0000 - val_loss: 0.0093 - val_accuracy: 0.9973\n",
      "Epoch 61/100\n",
      "157/157 [==============================] - 2s 14ms/step - loss: 7.7985e-06 - accuracy: 1.0000 - val_loss: 0.0094 - val_accuracy: 0.9973\n",
      "Epoch 62/100\n",
      "157/157 [==============================] - 2s 13ms/step - loss: 7.0934e-06 - accuracy: 1.0000 - val_loss: 0.0087 - val_accuracy: 0.9976\n",
      "Epoch 63/100\n",
      "157/157 [==============================] - 2s 13ms/step - loss: 6.4584e-06 - accuracy: 1.0000 - val_loss: 0.0093 - val_accuracy: 0.9974\n",
      "Epoch 64/100\n",
      "157/157 [==============================] - 2s 13ms/step - loss: 5.9016e-06 - accuracy: 1.0000 - val_loss: 0.0090 - val_accuracy: 0.9975\n",
      "Epoch 65/100\n",
      "157/157 [==============================] - 2s 13ms/step - loss: 5.3652e-06 - accuracy: 1.0000 - val_loss: 0.0085 - val_accuracy: 0.9976\n",
      "Epoch 66/100\n",
      "157/157 [==============================] - 2s 13ms/step - loss: 4.9014e-06 - accuracy: 1.0000 - val_loss: 0.0088 - val_accuracy: 0.9976\n",
      "Epoch 67/100\n",
      "157/157 [==============================] - 2s 13ms/step - loss: 4.5233e-06 - accuracy: 1.0000 - val_loss: 0.0088 - val_accuracy: 0.9976\n",
      "Epoch 68/100\n",
      "157/157 [==============================] - 2s 13ms/step - loss: 4.0829e-06 - accuracy: 1.0000 - val_loss: 0.0089 - val_accuracy: 0.9976\n",
      "Epoch 69/100\n",
      "157/157 [==============================] - 2s 12ms/step - loss: 3.7252e-06 - accuracy: 1.0000 - val_loss: 0.0088 - val_accuracy: 0.9976\n",
      "Epoch 70/100\n",
      "157/157 [==============================] - 2s 12ms/step - loss: 3.3989e-06 - accuracy: 1.0000 - val_loss: 0.0087 - val_accuracy: 0.9977\n",
      "Epoch 71/100\n",
      "157/157 [==============================] - 2s 13ms/step - loss: 3.1305e-06 - accuracy: 1.0000 - val_loss: 0.0087 - val_accuracy: 0.9977\n",
      "Epoch 72/100\n",
      "157/157 [==============================] - 2s 13ms/step - loss: 2.8441e-06 - accuracy: 1.0000 - val_loss: 0.0087 - val_accuracy: 0.9976\n",
      "Epoch 73/100\n",
      "157/157 [==============================] - 2s 13ms/step - loss: 2.6070e-06 - accuracy: 1.0000 - val_loss: 0.0081 - val_accuracy: 0.9978\n",
      "Epoch 74/100\n",
      "157/157 [==============================] - 2s 12ms/step - loss: 2.3695e-06 - accuracy: 1.0000 - val_loss: 0.0085 - val_accuracy: 0.9977\n",
      "Epoch 75/100\n",
      "157/157 [==============================] - 2s 13ms/step - loss: 2.1724e-06 - accuracy: 1.0000 - val_loss: 0.0085 - val_accuracy: 0.9977\n",
      "Epoch 76/100\n",
      "157/157 [==============================] - 2s 12ms/step - loss: 1.9909e-06 - accuracy: 1.0000 - val_loss: 0.0084 - val_accuracy: 0.9977\n",
      "Epoch 77/100\n",
      "157/157 [==============================] - 2s 13ms/step - loss: 1.8274e-06 - accuracy: 1.0000 - val_loss: 0.0081 - val_accuracy: 0.9978\n",
      "Epoch 78/100\n",
      "157/157 [==============================] - 2s 12ms/step - loss: 1.6715e-06 - accuracy: 1.0000 - val_loss: 0.0083 - val_accuracy: 0.9977\n",
      "Epoch 79/100\n",
      "157/157 [==============================] - 2s 12ms/step - loss: 1.5237e-06 - accuracy: 1.0000 - val_loss: 0.0084 - val_accuracy: 0.9977\n",
      "Epoch 80/100\n",
      "157/157 [==============================] - 2s 13ms/step - loss: 1.3968e-06 - accuracy: 1.0000 - val_loss: 0.0077 - val_accuracy: 0.9980\n",
      "Epoch 81/100\n",
      "157/157 [==============================] - 2s 13ms/step - loss: 1.2811e-06 - accuracy: 1.0000 - val_loss: 0.0084 - val_accuracy: 0.9977\n",
      "Epoch 82/100\n",
      "157/157 [==============================] - 2s 13ms/step - loss: 1.1718e-06 - accuracy: 1.0000 - val_loss: 0.0087 - val_accuracy: 0.9977\n",
      "Epoch 83/100\n",
      "157/157 [==============================] - 2s 12ms/step - loss: 1.0782e-06 - accuracy: 1.0000 - val_loss: 0.0084 - val_accuracy: 0.9977\n",
      "Epoch 84/100\n",
      "157/157 [==============================] - 2s 13ms/step - loss: 9.8475e-07 - accuracy: 1.0000 - val_loss: 0.0081 - val_accuracy: 0.9978\n",
      "Epoch 85/100\n",
      "157/157 [==============================] - 2s 13ms/step - loss: 9.0714e-07 - accuracy: 1.0000 - val_loss: 0.0083 - val_accuracy: 0.9977\n",
      "Epoch 86/100\n",
      "157/157 [==============================] - 2s 13ms/step - loss: 8.3006e-07 - accuracy: 1.0000 - val_loss: 0.0080 - val_accuracy: 0.9979\n",
      "Epoch 87/100\n",
      "157/157 [==============================] - 2s 13ms/step - loss: 7.6542e-07 - accuracy: 1.0000 - val_loss: 0.0083 - val_accuracy: 0.9977\n",
      "Epoch 88/100\n",
      "157/157 [==============================] - 2s 13ms/step - loss: 7.0018e-07 - accuracy: 1.0000 - val_loss: 0.0081 - val_accuracy: 0.9978\n",
      "Epoch 89/100\n",
      "157/157 [==============================] - 2s 13ms/step - loss: 6.4245e-07 - accuracy: 1.0000 - val_loss: 0.0080 - val_accuracy: 0.9979\n",
      "Epoch 90/100\n",
      "157/157 [==============================] - 2s 13ms/step - loss: 5.9173e-07 - accuracy: 1.0000 - val_loss: 0.0080 - val_accuracy: 0.9979\n",
      "625/625 [==============================] - 2s 2ms/step - loss: 0.0082 - accuracy: 0.9972\n"
     ]
    },
    {
     "data": {
      "text/plain": [
       "[0.008191285654902458, 0.9972000122070312]"
      ]
     },
     "execution_count": 4,
     "metadata": {},
     "output_type": "execute_result"
    }
   ],
   "source": [
    "from tensorflow import keras as keras\n",
    "from keras.models import Sequential\n",
    "from keras.layers import Conv1D, MaxPooling1D, Flatten, Dense\n",
    "from keras.callbacks import EarlyStopping, History\n",
    "\n",
    "# Define the model\n",
    "sequence_length = x_train.shape[1]\n",
    "model = Sequential()\n",
    "model.add(Conv1D(filters=32, kernel_size=10, activation='relu',\n",
    "          input_shape=(sequence_length, 4)))\n",
    "model.add(MaxPooling1D(pool_size=2))\n",
    "model.add(Flatten())\n",
    "model.add(Dense(units=64, activation='LeakyReLU'))\n",
    "model.add(Dense(units=1, activation='sigmoid'))\n",
    "\n",
    "# Compile the model\n",
    "model.compile(optimizer='adam', loss='binary_crossentropy',\n",
    "              metrics=['accuracy'])\n",
    "\n",
    "# Train the model\n",
    "model.fit(x_train, y_train, verbose=1,  \n",
    " validation_data=(x_validation, y_validation),batch_size=128, epochs=100,  \n",
    "       callbacks=[EarlyStopping(patience=10, monitor=\"val_loss\", \n",
    " restore_best_weights=True), History()])  \n",
    "\n",
    "# Evaluate the model\n",
    "model.evaluate(x_test, y_test)\n"
   ]
  },
  {
   "cell_type": "code",
   "execution_count": 8,
   "metadata": {
    "tags": []
   },
   "outputs": [
    {
     "name": "stdout",
     "output_type": "stream",
     "text": [
      "625/625 [==============================] - 2s 2ms/step\n"
     ]
    }
   ],
   "source": [
    "from sklearn.metrics import roc_curve\n",
    "from sklearn.metrics import auc\n",
    "y_pred = model.predict(x_test).ravel()\n",
    "fpr_keras, tpr_keras, thresholds_keras = roc_curve(y_test, y_pred)"
   ]
  },
  {
   "cell_type": "code",
   "execution_count": 9,
   "metadata": {
    "tags": []
   },
   "outputs": [
    {
     "data": {
      "text/plain": [
       "0.99997105"
      ]
     },
     "execution_count": 9,
     "metadata": {},
     "output_type": "execute_result"
    }
   ],
   "source": [
    "auc_keras = auc(fpr_keras, tpr_keras)\n",
    "auc_keras"
   ]
  },
  {
   "cell_type": "code",
   "execution_count": 11,
   "metadata": {
    "tags": []
   },
   "outputs": [
    {
     "data": {
      "image/png": "[encoded data removed]",
      "text/plain": [
       "<Figure size 640x480 with 1 Axes>"
      ]
     },
     "metadata": {},
     "output_type": "display_data"
    }
   ],
   "source": [
    "import matplotlib.pyplot as plt\n",
    "plt.plot([0, 1], [0, 1], 'k--')\n",
    "plt.plot(fpr_keras, tpr_keras, label='Keras (area = {:.3f})'.format(auc_keras))\n",
    "plt.xlabel('False positive rate')\n",
    "plt.ylabel('True positive rate')\n",
    "plt.title('ROC curve')\n",
    "plt.legend(loc='best')\n",
    "plt.show()"
   ]
  },
  {
   "cell_type": "markdown",
   "metadata": {
    "tags": []
   },
   "source": [
    "## Sim 2"
   ]
  },
  {
   "cell_type": "code",
   "execution_count": 12,
   "metadata": {
    "collapsed": true,
    "jupyter": {
     "outputs_hidden": true
    },
    "tags": []
   },
   "outputs": [
    {
     "name": "stdout",
     "output_type": "stream",
     "text": [
      "Epoch 1/100\n",
      "157/157 [==============================] - 3s 17ms/step - loss: 0.7134 - accuracy: 0.4947 - val_loss: 0.6920 - val_accuracy: 0.5189\n",
      "Epoch 2/100\n",
      "157/157 [==============================] - 2s 14ms/step - loss: 0.6918 - accuracy: 0.5178 - val_loss: 0.6873 - val_accuracy: 0.5286\n",
      "Epoch 3/100\n",
      "157/157 [==============================] - 2s 14ms/step - loss: 0.6792 - accuracy: 0.5658 - val_loss: 0.6943 - val_accuracy: 0.5184\n",
      "Epoch 4/100\n",
      "157/157 [==============================] - 2s 14ms/step - loss: 0.6469 - accuracy: 0.6260 - val_loss: 0.6107 - val_accuracy: 0.6690\n",
      "Epoch 5/100\n",
      "157/157 [==============================] - 2s 13ms/step - loss: 0.5294 - accuracy: 0.7424 - val_loss: 0.4446 - val_accuracy: 0.8069\n",
      "Epoch 6/100\n",
      "157/157 [==============================] - 2s 14ms/step - loss: 0.4013 - accuracy: 0.8291 - val_loss: 0.3682 - val_accuracy: 0.8508\n",
      "Epoch 7/100\n",
      "157/157 [==============================] - 2s 13ms/step - loss: 0.3054 - accuracy: 0.8832 - val_loss: 0.3052 - val_accuracy: 0.8785\n",
      "Epoch 8/100\n",
      "157/157 [==============================] - 2s 13ms/step - loss: 0.2298 - accuracy: 0.9228 - val_loss: 0.2532 - val_accuracy: 0.9039\n",
      "Epoch 9/100\n",
      "157/157 [==============================] - 2s 13ms/step - loss: 0.1645 - accuracy: 0.9493 - val_loss: 0.2002 - val_accuracy: 0.9293\n",
      "Epoch 10/100\n",
      "157/157 [==============================] - 2s 13ms/step - loss: 0.1214 - accuracy: 0.9661 - val_loss: 0.1862 - val_accuracy: 0.9344\n",
      "Epoch 11/100\n",
      "157/157 [==============================] - 2s 13ms/step - loss: 0.0876 - accuracy: 0.9781 - val_loss: 0.1836 - val_accuracy: 0.9345\n",
      "Epoch 12/100\n",
      "157/157 [==============================] - 2s 13ms/step - loss: 0.0675 - accuracy: 0.9837 - val_loss: 0.2016 - val_accuracy: 0.9293\n",
      "Epoch 13/100\n",
      "157/157 [==============================] - 2s 14ms/step - loss: 0.0513 - accuracy: 0.9884 - val_loss: 0.1555 - val_accuracy: 0.9458\n",
      "Epoch 14/100\n",
      "157/157 [==============================] - 2s 14ms/step - loss: 0.0373 - accuracy: 0.9930 - val_loss: 0.1648 - val_accuracy: 0.9431\n",
      "Epoch 15/100\n",
      "157/157 [==============================] - 2s 14ms/step - loss: 0.0287 - accuracy: 0.9948 - val_loss: 0.1665 - val_accuracy: 0.9444\n",
      "Epoch 16/100\n",
      "157/157 [==============================] - 2s 14ms/step - loss: 0.0211 - accuracy: 0.9971 - val_loss: 0.1626 - val_accuracy: 0.9464\n",
      "Epoch 17/100\n",
      "157/157 [==============================] - 2s 13ms/step - loss: 0.0177 - accuracy: 0.9970 - val_loss: 0.1594 - val_accuracy: 0.9489\n",
      "Epoch 18/100\n",
      "157/157 [==============================] - 2s 13ms/step - loss: 0.0148 - accuracy: 0.9980 - val_loss: 0.1704 - val_accuracy: 0.9470\n",
      "Epoch 19/100\n",
      "157/157 [==============================] - 2s 14ms/step - loss: 0.0130 - accuracy: 0.9982 - val_loss: 0.1691 - val_accuracy: 0.9483\n",
      "Epoch 20/100\n",
      "157/157 [==============================] - 2s 14ms/step - loss: 0.0151 - accuracy: 0.9975 - val_loss: 0.1547 - val_accuracy: 0.9513\n",
      "Epoch 21/100\n",
      "157/157 [==============================] - 2s 14ms/step - loss: 0.0109 - accuracy: 0.9983 - val_loss: 0.1625 - val_accuracy: 0.9517\n",
      "Epoch 22/100\n",
      "157/157 [==============================] - 2s 13ms/step - loss: 0.0099 - accuracy: 0.9987 - val_loss: 0.1705 - val_accuracy: 0.9518\n",
      "Epoch 23/100\n",
      "157/157 [==============================] - 2s 13ms/step - loss: 0.0094 - accuracy: 0.9985 - val_loss: 0.1514 - val_accuracy: 0.9538\n",
      "Epoch 24/100\n",
      "157/157 [==============================] - 2s 14ms/step - loss: 0.0079 - accuracy: 0.9988 - val_loss: 0.1773 - val_accuracy: 0.9506\n",
      "Epoch 25/100\n",
      "157/157 [==============================] - 2s 13ms/step - loss: 0.0065 - accuracy: 0.9991 - val_loss: 0.1829 - val_accuracy: 0.9514\n",
      "Epoch 26/100\n",
      "157/157 [==============================] - 2s 13ms/step - loss: 0.0077 - accuracy: 0.9992 - val_loss: 0.1519 - val_accuracy: 0.9581\n",
      "Epoch 27/100\n",
      "157/157 [==============================] - 2s 13ms/step - loss: 0.0059 - accuracy: 0.9990 - val_loss: 0.1547 - val_accuracy: 0.9532\n",
      "Epoch 28/100\n",
      "157/157 [==============================] - 2s 14ms/step - loss: 0.0080 - accuracy: 0.9987 - val_loss: 0.1380 - val_accuracy: 0.9588\n",
      "Epoch 29/100\n",
      "157/157 [==============================] - 2s 14ms/step - loss: 0.0057 - accuracy: 0.9991 - val_loss: 0.1478 - val_accuracy: 0.9606\n",
      "Epoch 30/100\n",
      "157/157 [==============================] - 2s 14ms/step - loss: 0.0091 - accuracy: 0.9976 - val_loss: 0.1255 - val_accuracy: 0.9632\n",
      "Epoch 31/100\n",
      "157/157 [==============================] - 2s 14ms/step - loss: 0.0049 - accuracy: 0.9991 - val_loss: 0.1313 - val_accuracy: 0.9659\n",
      "Epoch 32/100\n",
      "157/157 [==============================] - 2s 13ms/step - loss: 0.0019 - accuracy: 0.9998 - val_loss: 0.1222 - val_accuracy: 0.9664\n",
      "Epoch 33/100\n",
      "157/157 [==============================] - 2s 14ms/step - loss: 0.0016 - accuracy: 0.9999 - val_loss: 0.1207 - val_accuracy: 0.9664\n",
      "Epoch 34/100\n",
      "157/157 [==============================] - 2s 14ms/step - loss: 0.0011 - accuracy: 0.9999 - val_loss: 0.1312 - val_accuracy: 0.9643\n",
      "Epoch 35/100\n",
      "157/157 [==============================] - 2s 14ms/step - loss: 0.0012 - accuracy: 0.9999 - val_loss: 0.1256 - val_accuracy: 0.9675\n",
      "Epoch 36/100\n",
      "157/157 [==============================] - 2s 13ms/step - loss: 3.9478e-04 - accuracy: 1.0000 - val_loss: 0.1287 - val_accuracy: 0.9669\n",
      "Epoch 37/100\n",
      "157/157 [==============================] - 2s 14ms/step - loss: 3.2320e-04 - accuracy: 1.0000 - val_loss: 0.1326 - val_accuracy: 0.9667\n",
      "Epoch 38/100\n",
      "157/157 [==============================] - 2s 14ms/step - loss: 2.8616e-04 - accuracy: 1.0000 - val_loss: 0.1353 - val_accuracy: 0.9663\n",
      "Epoch 39/100\n",
      "157/157 [==============================] - 2s 13ms/step - loss: 2.5781e-04 - accuracy: 1.0000 - val_loss: 0.1336 - val_accuracy: 0.9667\n",
      "Epoch 40/100\n",
      "157/157 [==============================] - 2s 14ms/step - loss: 2.3310e-04 - accuracy: 1.0000 - val_loss: 0.1345 - val_accuracy: 0.9669\n",
      "Epoch 41/100\n",
      "157/157 [==============================] - 2s 14ms/step - loss: 2.1404e-04 - accuracy: 1.0000 - val_loss: 0.1367 - val_accuracy: 0.9667\n",
      "Epoch 42/100\n",
      "157/157 [==============================] - 2s 13ms/step - loss: 1.9617e-04 - accuracy: 1.0000 - val_loss: 0.1376 - val_accuracy: 0.9668\n",
      "Epoch 43/100\n",
      "157/157 [==============================] - 2s 14ms/step - loss: 1.7955e-04 - accuracy: 1.0000 - val_loss: 0.1406 - val_accuracy: 0.9663\n",
      "625/625 [==============================] - 2s 3ms/step - loss: 0.1140 - accuracy: 0.9682\n"
     ]
    },
    {
     "data": {
      "text/plain": [
       "[0.11395639926195145, 0.9682499766349792]"
      ]
     },
     "execution_count": 12,
     "metadata": {},
     "output_type": "execute_result"
    }
   ],
   "source": [
    "from keras.layers import Conv1D, MaxPooling1D, Flatten, Dense\n",
    "from keras.models import Sequential\n",
    "from tensorflow import keras as keras\n",
    "x_train, y_train = parse_fasta(read_fasta('./sim2/train.fasta'))\n",
    "x_train = [rna_to_one_hot(i) for i in x_train]\n",
    "x_train = np.array(x_train)\n",
    "y_train = np.array(y_train)\n",
    "\n",
    "x_validation, y_validation = parse_fasta(read_fasta('./sim2/validation.fasta'))\n",
    "x_validation = [rna_to_one_hot(i) for i in x_validation]\n",
    "x_validation = np.array(x_validation)\n",
    "y_validation = np.array(y_validation)\n",
    "\n",
    "x_test, y_test = parse_fasta(read_fasta('./sim2/test.fasta'))\n",
    "x_test = [rna_to_one_hot(i) for i in x_test]\n",
    "x_test = np.array(x_test)\n",
    "y_test = np.array(y_test)\n",
    "\n",
    "\n",
    "# Define the model\n",
    "sequence_length = x_train.shape[1]\n",
    "model = Sequential()\n",
    "model.add(Conv1D(filters=32, kernel_size=20, activation='relu',\n",
    "          input_shape=(sequence_length, 4)))\n",
    "model.add(MaxPooling1D(pool_size=2))\n",
    "model.add(Flatten())\n",
    "model.add(Dense(units=64, activation='LeakyReLU'))\n",
    "model.add(Dense(units=1, activation='sigmoid'))\n",
    "\n",
    "# Compile the model\n",
    "model.compile(optimizer='adam', loss='binary_crossentropy',\n",
    "              metrics=['accuracy'])\n",
    "\n",
    "# Train the model\n",
    "model.fit(x_train, y_train, verbose=1,  \n",
    " validation_data=(x_validation, y_validation),batch_size=128, epochs=100,  \n",
    "       callbacks=[EarlyStopping(patience=10, monitor=\"val_loss\", \n",
    " restore_best_weights=True), History()])  \n",
    "\n",
    "# Evaluate the model\n",
    "model.evaluate(x_test, y_test)\n"
   ]
  },
  {
   "cell_type": "code",
   "execution_count": 13,
   "metadata": {
    "tags": []
   },
   "outputs": [
    {
     "name": "stdout",
     "output_type": "stream",
     "text": [
      "625/625 [==============================] - 2s 3ms/step\n"
     ]
    },
    {
     "data": {
      "text/plain": [
       "0.99407807"
      ]
     },
     "execution_count": 13,
     "metadata": {},
     "output_type": "execute_result"
    }
   ],
   "source": [
    "from sklearn.metrics import roc_curve\n",
    "from sklearn.metrics import auc\n",
    "y_pred = model.predict(x_test).ravel()\n",
    "fpr_keras, tpr_keras, thresholds_keras = roc_curve(y_test, y_pred)\n",
    "auc_keras = auc(fpr_keras, tpr_keras)\n",
    "auc_keras"
   ]
  },
  {
   "cell_type": "code",
   "execution_count": 14,
   "metadata": {
    "tags": []
   },
   "outputs": [
    {
     "data": {
      "image/png": "[encoded data removed]",
      "text/plain": [
       "<Figure size 640x480 with 1 Axes>"
      ]
     },
     "metadata": {},
     "output_type": "display_data"
    }
   ],
   "source": [
    "import matplotlib.pyplot as plt\n",
    "plt.plot([0, 1], [0, 1], 'k--')\n",
    "plt.plot(fpr_keras, tpr_keras, label='Keras (area = {:.3f})'.format(auc_keras))\n",
    "plt.xlabel('False positive rate')\n",
    "plt.ylabel('True positive rate')\n",
    "plt.title('ROC curve')\n",
    "plt.legend(loc='best')\n",
    "plt.show()"
   ]
  },
  {
   "cell_type": "markdown",
   "metadata": {},
   "source": [
    "## Sim 6"
   ]
  },
  {
   "cell_type": "code",
   "execution_count": 15,
   "metadata": {
    "collapsed": true,
    "jupyter": {
     "outputs_hidden": true
    },
    "tags": []
   },
   "outputs": [
    {
     "name": "stdout",
     "output_type": "stream",
     "text": [
      "Epoch 1/100\n",
      "157/157 [==============================] - 4s 18ms/step - loss: 0.7002 - accuracy: 0.4925 - val_loss: 0.6895 - val_accuracy: 0.5715\n",
      "Epoch 2/100\n",
      "157/157 [==============================] - 2s 14ms/step - loss: 0.6499 - accuracy: 0.6197 - val_loss: 0.5898 - val_accuracy: 0.7046\n",
      "Epoch 3/100\n",
      "157/157 [==============================] - 2s 14ms/step - loss: 0.5475 - accuracy: 0.7293 - val_loss: 0.5034 - val_accuracy: 0.7703\n",
      "Epoch 4/100\n",
      "157/157 [==============================] - 2s 13ms/step - loss: 0.4624 - accuracy: 0.7942 - val_loss: 0.4352 - val_accuracy: 0.8112\n",
      "Epoch 5/100\n",
      "157/157 [==============================] - 2s 13ms/step - loss: 0.3996 - accuracy: 0.8281 - val_loss: 0.3921 - val_accuracy: 0.8285\n",
      "Epoch 6/100\n",
      "157/157 [==============================] - 2s 14ms/step - loss: 0.3484 - accuracy: 0.8526 - val_loss: 0.3496 - val_accuracy: 0.8454\n",
      "Epoch 7/100\n",
      "157/157 [==============================] - 2s 14ms/step - loss: 0.2937 - accuracy: 0.8819 - val_loss: 0.2963 - val_accuracy: 0.8727\n",
      "Epoch 8/100\n",
      "157/157 [==============================] - 2s 14ms/step - loss: 0.2318 - accuracy: 0.9135 - val_loss: 0.2404 - val_accuracy: 0.9048\n",
      "Epoch 9/100\n",
      "157/157 [==============================] - 2s 14ms/step - loss: 0.1811 - accuracy: 0.9395 - val_loss: 0.1815 - val_accuracy: 0.9342\n",
      "Epoch 10/100\n",
      "157/157 [==============================] - 2s 14ms/step - loss: 0.1459 - accuracy: 0.9562 - val_loss: 0.1465 - val_accuracy: 0.9485\n",
      "Epoch 11/100\n",
      "157/157 [==============================] - 2s 14ms/step - loss: 0.1236 - accuracy: 0.9633 - val_loss: 0.1176 - val_accuracy: 0.9636\n",
      "Epoch 12/100\n",
      "157/157 [==============================] - 2s 13ms/step - loss: 0.1047 - accuracy: 0.9694 - val_loss: 0.1004 - val_accuracy: 0.9696\n",
      "Epoch 13/100\n",
      "157/157 [==============================] - 2s 14ms/step - loss: 0.0939 - accuracy: 0.9728 - val_loss: 0.0931 - val_accuracy: 0.9726\n",
      "Epoch 14/100\n",
      "157/157 [==============================] - 2s 13ms/step - loss: 0.0858 - accuracy: 0.9752 - val_loss: 0.0767 - val_accuracy: 0.9788\n",
      "Epoch 15/100\n",
      "157/157 [==============================] - 2s 14ms/step - loss: 0.0794 - accuracy: 0.9778 - val_loss: 0.0739 - val_accuracy: 0.9811\n",
      "Epoch 16/100\n",
      "157/157 [==============================] - 2s 14ms/step - loss: 0.0773 - accuracy: 0.9779 - val_loss: 0.0667 - val_accuracy: 0.9828\n",
      "Epoch 17/100\n",
      "157/157 [==============================] - 2s 13ms/step - loss: 0.0689 - accuracy: 0.9811 - val_loss: 0.0618 - val_accuracy: 0.9829\n",
      "Epoch 18/100\n",
      "157/157 [==============================] - 2s 14ms/step - loss: 0.0688 - accuracy: 0.9807 - val_loss: 0.0595 - val_accuracy: 0.9847\n",
      "Epoch 19/100\n",
      "157/157 [==============================] - 2s 13ms/step - loss: 0.0662 - accuracy: 0.9818 - val_loss: 0.0555 - val_accuracy: 0.9848\n",
      "Epoch 20/100\n",
      "157/157 [==============================] - 2s 14ms/step - loss: 0.0620 - accuracy: 0.9825 - val_loss: 0.0507 - val_accuracy: 0.9854\n",
      "Epoch 21/100\n",
      "157/157 [==============================] - 2s 14ms/step - loss: 0.0567 - accuracy: 0.9847 - val_loss: 0.0499 - val_accuracy: 0.9870\n",
      "Epoch 22/100\n",
      "157/157 [==============================] - 2s 15ms/step - loss: 0.0589 - accuracy: 0.9848 - val_loss: 0.0470 - val_accuracy: 0.9880\n",
      "Epoch 23/100\n",
      "157/157 [==============================] - 2s 14ms/step - loss: 0.0562 - accuracy: 0.9847 - val_loss: 0.0467 - val_accuracy: 0.9875\n",
      "Epoch 24/100\n",
      "157/157 [==============================] - 2s 14ms/step - loss: 0.0521 - accuracy: 0.9855 - val_loss: 0.0439 - val_accuracy: 0.9883\n",
      "Epoch 25/100\n",
      "157/157 [==============================] - 2s 14ms/step - loss: 0.0513 - accuracy: 0.9868 - val_loss: 0.0465 - val_accuracy: 0.9877\n",
      "Epoch 26/100\n",
      "157/157 [==============================] - 2s 15ms/step - loss: 0.0506 - accuracy: 0.9862 - val_loss: 0.0431 - val_accuracy: 0.9895\n",
      "Epoch 27/100\n",
      "157/157 [==============================] - 2s 14ms/step - loss: 0.0479 - accuracy: 0.9869 - val_loss: 0.0465 - val_accuracy: 0.9882\n",
      "Epoch 28/100\n",
      "157/157 [==============================] - 2s 15ms/step - loss: 0.0466 - accuracy: 0.9876 - val_loss: 0.0371 - val_accuracy: 0.9906\n",
      "Epoch 29/100\n",
      "157/157 [==============================] - 2s 14ms/step - loss: 0.0459 - accuracy: 0.9883 - val_loss: 0.0381 - val_accuracy: 0.9908\n",
      "Epoch 30/100\n",
      "157/157 [==============================] - 2s 15ms/step - loss: 0.0413 - accuracy: 0.9896 - val_loss: 0.0339 - val_accuracy: 0.9912\n",
      "Epoch 31/100\n",
      "157/157 [==============================] - 2s 15ms/step - loss: 0.0455 - accuracy: 0.9874 - val_loss: 0.0363 - val_accuracy: 0.9907\n",
      "Epoch 32/100\n",
      "157/157 [==============================] - 2s 15ms/step - loss: 0.0509 - accuracy: 0.9870 - val_loss: 0.0344 - val_accuracy: 0.9916\n",
      "Epoch 33/100\n",
      "157/157 [==============================] - 2s 14ms/step - loss: 0.0421 - accuracy: 0.9897 - val_loss: 0.0290 - val_accuracy: 0.9933\n",
      "Epoch 34/100\n",
      "157/157 [==============================] - 2s 14ms/step - loss: 0.0445 - accuracy: 0.9891 - val_loss: 0.0292 - val_accuracy: 0.9930\n",
      "Epoch 35/100\n",
      "157/157 [==============================] - 2s 14ms/step - loss: 0.0425 - accuracy: 0.9898 - val_loss: 0.0317 - val_accuracy: 0.9924\n",
      "Epoch 36/100\n",
      "157/157 [==============================] - 2s 14ms/step - loss: 0.0420 - accuracy: 0.9893 - val_loss: 0.0271 - val_accuracy: 0.9941\n",
      "Epoch 37/100\n",
      "157/157 [==============================] - 2s 14ms/step - loss: 0.0412 - accuracy: 0.9902 - val_loss: 0.0246 - val_accuracy: 0.9940\n",
      "Epoch 38/100\n",
      "157/157 [==============================] - 2s 13ms/step - loss: 0.0454 - accuracy: 0.9877 - val_loss: 0.0300 - val_accuracy: 0.9936\n",
      "Epoch 39/100\n",
      "157/157 [==============================] - 2s 13ms/step - loss: 0.0390 - accuracy: 0.9901 - val_loss: 0.0287 - val_accuracy: 0.9933\n",
      "Epoch 40/100\n",
      "157/157 [==============================] - 2s 14ms/step - loss: 0.0387 - accuracy: 0.9908 - val_loss: 0.0266 - val_accuracy: 0.9943\n",
      "Epoch 41/100\n",
      "157/157 [==============================] - 2s 14ms/step - loss: 0.0393 - accuracy: 0.9903 - val_loss: 0.0295 - val_accuracy: 0.9934\n",
      "Epoch 42/100\n",
      "157/157 [==============================] - 2s 13ms/step - loss: 0.0352 - accuracy: 0.9910 - val_loss: 0.0243 - val_accuracy: 0.9947\n",
      "Epoch 43/100\n",
      "157/157 [==============================] - 2s 14ms/step - loss: 0.0361 - accuracy: 0.9909 - val_loss: 0.0286 - val_accuracy: 0.9934\n",
      "Epoch 44/100\n",
      "157/157 [==============================] - 2s 14ms/step - loss: 0.0410 - accuracy: 0.9907 - val_loss: 0.0252 - val_accuracy: 0.9948\n",
      "Epoch 45/100\n",
      "157/157 [==============================] - 2s 13ms/step - loss: 0.0413 - accuracy: 0.9904 - val_loss: 0.0271 - val_accuracy: 0.9941\n",
      "Epoch 46/100\n",
      "157/157 [==============================] - 2s 13ms/step - loss: 0.0404 - accuracy: 0.9910 - val_loss: 0.0282 - val_accuracy: 0.9938\n",
      "Epoch 47/100\n",
      "157/157 [==============================] - 2s 13ms/step - loss: 0.0367 - accuracy: 0.9909 - val_loss: 0.0307 - val_accuracy: 0.9934\n",
      "Epoch 48/100\n",
      "157/157 [==============================] - 2s 14ms/step - loss: 0.0343 - accuracy: 0.9920 - val_loss: 0.0229 - val_accuracy: 0.9945\n",
      "Epoch 49/100\n",
      "157/157 [==============================] - 2s 14ms/step - loss: 0.0347 - accuracy: 0.9912 - val_loss: 0.0218 - val_accuracy: 0.9948\n",
      "Epoch 50/100\n",
      "157/157 [==============================] - 2s 14ms/step - loss: 0.0320 - accuracy: 0.9919 - val_loss: 0.0235 - val_accuracy: 0.9946\n",
      "Epoch 51/100\n",
      "157/157 [==============================] - 2s 14ms/step - loss: 0.0349 - accuracy: 0.9919 - val_loss: 0.0242 - val_accuracy: 0.9943\n",
      "Epoch 52/100\n",
      "157/157 [==============================] - 2s 14ms/step - loss: 0.0377 - accuracy: 0.9911 - val_loss: 0.0205 - val_accuracy: 0.9952\n",
      "Epoch 53/100\n",
      "157/157 [==============================] - 2s 14ms/step - loss: 0.0299 - accuracy: 0.9921 - val_loss: 0.0227 - val_accuracy: 0.9950\n",
      "Epoch 54/100\n",
      "157/157 [==============================] - 2s 14ms/step - loss: 0.0363 - accuracy: 0.9916 - val_loss: 0.0213 - val_accuracy: 0.9952\n",
      "Epoch 55/100\n",
      "157/157 [==============================] - 2s 13ms/step - loss: 0.0333 - accuracy: 0.9916 - val_loss: 0.0220 - val_accuracy: 0.9949\n",
      "Epoch 56/100\n",
      "157/157 [==============================] - 2s 14ms/step - loss: 0.0329 - accuracy: 0.9919 - val_loss: 0.0205 - val_accuracy: 0.9958\n",
      "Epoch 57/100\n",
      "157/157 [==============================] - 2s 13ms/step - loss: 0.0334 - accuracy: 0.9919 - val_loss: 0.0220 - val_accuracy: 0.9958\n",
      "Epoch 58/100\n",
      "157/157 [==============================] - 2s 14ms/step - loss: 0.0323 - accuracy: 0.9927 - val_loss: 0.0199 - val_accuracy: 0.9956\n",
      "Epoch 59/100\n",
      "157/157 [==============================] - 2s 13ms/step - loss: 0.0340 - accuracy: 0.9922 - val_loss: 0.0246 - val_accuracy: 0.9945\n",
      "Epoch 60/100\n",
      "157/157 [==============================] - 2s 13ms/step - loss: 0.0308 - accuracy: 0.9929 - val_loss: 0.0203 - val_accuracy: 0.9952\n",
      "Epoch 61/100\n",
      "157/157 [==============================] - 2s 13ms/step - loss: 0.0309 - accuracy: 0.9933 - val_loss: 0.0203 - val_accuracy: 0.9954\n",
      "Epoch 62/100\n",
      "157/157 [==============================] - 2s 14ms/step - loss: 0.0393 - accuracy: 0.9912 - val_loss: 0.0217 - val_accuracy: 0.9955\n",
      "Epoch 63/100\n",
      "157/157 [==============================] - 2s 13ms/step - loss: 0.0317 - accuracy: 0.9926 - val_loss: 0.0191 - val_accuracy: 0.9958\n",
      "Epoch 64/100\n",
      "157/157 [==============================] - 2s 14ms/step - loss: 0.0293 - accuracy: 0.9934 - val_loss: 0.0192 - val_accuracy: 0.9955\n",
      "Epoch 65/100\n",
      "157/157 [==============================] - 2s 14ms/step - loss: 0.0370 - accuracy: 0.9919 - val_loss: 0.0217 - val_accuracy: 0.9944\n",
      "Epoch 66/100\n",
      "157/157 [==============================] - 2s 13ms/step - loss: 0.0360 - accuracy: 0.9915 - val_loss: 0.0228 - val_accuracy: 0.9950\n",
      "Epoch 67/100\n",
      "157/157 [==============================] - 2s 14ms/step - loss: 0.0306 - accuracy: 0.9931 - val_loss: 0.0203 - val_accuracy: 0.9951\n",
      "Epoch 68/100\n",
      "157/157 [==============================] - 2s 14ms/step - loss: 0.0312 - accuracy: 0.9926 - val_loss: 0.0226 - val_accuracy: 0.9952\n",
      "Epoch 69/100\n",
      "157/157 [==============================] - 2s 14ms/step - loss: 0.0316 - accuracy: 0.9921 - val_loss: 0.0225 - val_accuracy: 0.9952\n",
      "Epoch 70/100\n",
      "157/157 [==============================] - 2s 13ms/step - loss: 0.0287 - accuracy: 0.9937 - val_loss: 0.0200 - val_accuracy: 0.9951\n",
      "Epoch 71/100\n",
      "157/157 [==============================] - 2s 14ms/step - loss: 0.0329 - accuracy: 0.9927 - val_loss: 0.0211 - val_accuracy: 0.9958\n",
      "Epoch 72/100\n",
      "157/157 [==============================] - 2s 14ms/step - loss: 0.0341 - accuracy: 0.9922 - val_loss: 0.0191 - val_accuracy: 0.9958\n",
      "Epoch 73/100\n",
      "157/157 [==============================] - 2s 13ms/step - loss: 0.0297 - accuracy: 0.9930 - val_loss: 0.0187 - val_accuracy: 0.9961\n",
      "Epoch 74/100\n",
      "157/157 [==============================] - 2s 14ms/step - loss: 0.0299 - accuracy: 0.9927 - val_loss: 0.0190 - val_accuracy: 0.9957\n",
      "Epoch 75/100\n",
      "157/157 [==============================] - 2s 13ms/step - loss: 0.0355 - accuracy: 0.9925 - val_loss: 0.0249 - val_accuracy: 0.9944\n",
      "Epoch 76/100\n",
      "157/157 [==============================] - 2s 13ms/step - loss: 0.0304 - accuracy: 0.9936 - val_loss: 0.0188 - val_accuracy: 0.9962\n",
      "Epoch 77/100\n",
      "157/157 [==============================] - 2s 14ms/step - loss: 0.0256 - accuracy: 0.9946 - val_loss: 0.0160 - val_accuracy: 0.9965\n",
      "Epoch 78/100\n",
      "157/157 [==============================] - 2s 14ms/step - loss: 0.0316 - accuracy: 0.9931 - val_loss: 0.0194 - val_accuracy: 0.9952\n",
      "Epoch 79/100\n",
      "157/157 [==============================] - 2s 14ms/step - loss: 0.0292 - accuracy: 0.9935 - val_loss: 0.0215 - val_accuracy: 0.9947\n",
      "Epoch 80/100\n",
      "157/157 [==============================] - 2s 14ms/step - loss: 0.0291 - accuracy: 0.9936 - val_loss: 0.0187 - val_accuracy: 0.9949\n",
      "Epoch 81/100\n",
      "157/157 [==============================] - 2s 14ms/step - loss: 0.0262 - accuracy: 0.9940 - val_loss: 0.0172 - val_accuracy: 0.9959\n",
      "Epoch 82/100\n",
      "157/157 [==============================] - 2s 14ms/step - loss: 0.0318 - accuracy: 0.9930 - val_loss: 0.0164 - val_accuracy: 0.9962\n",
      "Epoch 83/100\n",
      "157/157 [==============================] - 2s 14ms/step - loss: 0.0299 - accuracy: 0.9929 - val_loss: 0.0168 - val_accuracy: 0.9962\n",
      "Epoch 84/100\n",
      "157/157 [==============================] - 2s 14ms/step - loss: 0.0285 - accuracy: 0.9934 - val_loss: 0.0202 - val_accuracy: 0.9950\n",
      "Epoch 85/100\n",
      "157/157 [==============================] - 2s 14ms/step - loss: 0.0324 - accuracy: 0.9930 - val_loss: 0.0183 - val_accuracy: 0.9956\n",
      "Epoch 86/100\n",
      "157/157 [==============================] - 2s 13ms/step - loss: 0.0299 - accuracy: 0.9941 - val_loss: 0.0169 - val_accuracy: 0.9960\n",
      "Epoch 87/100\n",
      "157/157 [==============================] - 2s 14ms/step - loss: 0.0306 - accuracy: 0.9933 - val_loss: 0.0177 - val_accuracy: 0.9961\n",
      "625/625 [==============================] - 2s 2ms/step - loss: 0.0118 - accuracy: 0.9972\n"
     ]
    },
    {
     "data": {
      "text/plain": [
       "[0.011765053495764732, 0.9971500039100647]"
      ]
     },
     "execution_count": 15,
     "metadata": {},
     "output_type": "execute_result"
    }
   ],
   "source": [
    "from keras.layers import Conv1D, MaxPooling1D, Flatten, Dense, Dropout\n",
    "from keras.models import Sequential\n",
    "from tensorflow import keras as keras\n",
    "x_train, y_train = parse_fasta(read_fasta('./sim6/train.fasta'))\n",
    "x_train = [rna_to_one_hot(i) for i in x_train]\n",
    "x_train = np.array(x_train)\n",
    "y_train = np.array(y_train)\n",
    "\n",
    "x_validation, y_validation = parse_fasta(read_fasta('./sim6/validation.fasta'))\n",
    "x_validation = [rna_to_one_hot(i) for i in x_validation]\n",
    "x_validation = np.array(x_validation)\n",
    "y_validation = np.array(y_validation)\n",
    "\n",
    "x_test, y_test = parse_fasta(read_fasta('./sim6/test.fasta'))\n",
    "x_test = [rna_to_one_hot(i) for i in x_test]\n",
    "x_test = np.array(x_test)\n",
    "y_test = np.array(y_test)\n",
    "\n",
    "\n",
    "# Define the model\n",
    "sequence_length = x_train.shape[1]\n",
    "model = Sequential()\n",
    "model.add(Conv1D(filters=32, kernel_size=20, activation='relu',\n",
    "          input_shape=(sequence_length, 4)))\n",
    "\n",
    "\n",
    "model.add(MaxPooling1D(pool_size=2))\n",
    "model.add(Flatten())\n",
    "model.add(Dense(units=64, activation='LeakyReLU'))\n",
    "model.add(Dropout(rate=0.5))\n",
    "model.add(Dense(units=1, activation='sigmoid'))\n",
    "\n",
    "# Compile the model\n",
    "model.compile(optimizer='adam', loss='binary_crossentropy',\n",
    "              metrics=['accuracy'])\n",
    "\n",
    "# Train the model\n",
    "model.fit(x_train, y_train, verbose=1,  \n",
    " validation_data=(x_validation, y_validation),batch_size=128, epochs=100,  \n",
    "       callbacks=[EarlyStopping(patience=10, monitor=\"val_loss\", \n",
    " restore_best_weights=True), History()])  \n",
    "\n",
    "# Evaluate the model\n",
    "model.evaluate(x_test, y_test)\n"
   ]
  },
  {
   "cell_type": "code",
   "execution_count": 16,
   "metadata": {
    "tags": []
   },
   "outputs": [
    {
     "name": "stdout",
     "output_type": "stream",
     "text": [
      "625/625 [==============================] - 2s 3ms/step\n"
     ]
    },
    {
     "data": {
      "text/plain": [
       "0.99983428"
      ]
     },
     "execution_count": 16,
     "metadata": {},
     "output_type": "execute_result"
    }
   ],
   "source": [
    "from sklearn.metrics import roc_curve\n",
    "from sklearn.metrics import auc\n",
    "y_pred = model.predict(x_test).ravel()\n",
    "fpr_keras, tpr_keras, thresholds_keras = roc_curve(y_test, y_pred)\n",
    "auc_keras = auc(fpr_keras, tpr_keras)\n",
    "auc_keras"
   ]
  },
  {
   "cell_type": "code",
   "execution_count": 17,
   "metadata": {
    "tags": []
   },
   "outputs": [
    {
     "data": {
      "image/png": "[encoded data removed]",
      "text/plain": [
       "<Figure size 640x480 with 1 Axes>"
      ]
     },
     "metadata": {},
     "output_type": "display_data"
    }
   ],
   "source": [
    "import matplotlib.pyplot as plt\n",
    "plt.plot([0, 1], [0, 1], 'k--')\n",
    "plt.plot(fpr_keras, tpr_keras, label='Keras (area = {:.3f})'.format(auc_keras))\n",
    "plt.xlabel('False positive rate')\n",
    "plt.ylabel('True positive rate')\n",
    "plt.title('ROC curve')\n",
    "plt.legend(loc='best')\n",
    "plt.show()"
   ]
  },
  {
   "cell_type": "markdown",
   "metadata": {},
   "source": [
    "## Sim 7"
   ]
  },
  {
   "cell_type": "code",
   "execution_count": 18,
   "metadata": {
    "collapsed": true,
    "jupyter": {
     "outputs_hidden": true
    },
    "tags": []
   },
   "outputs": [
    {
     "name": "stdout",
     "output_type": "stream",
     "text": [
      "Epoch 1/100\n",
      "157/157 [==============================] - 5s 27ms/step - loss: 0.7101 - accuracy: 0.4988 - val_loss: 0.6929 - val_accuracy: 0.5141\n",
      "Epoch 2/100\n",
      "157/157 [==============================] - 4s 23ms/step - loss: 0.6936 - accuracy: 0.5038 - val_loss: 0.6921 - val_accuracy: 0.5121\n",
      "Epoch 3/100\n",
      "157/157 [==============================] - 4s 23ms/step - loss: 0.6719 - accuracy: 0.5771 - val_loss: 0.5949 - val_accuracy: 0.6943\n",
      "Epoch 4/100\n",
      "157/157 [==============================] - 4s 24ms/step - loss: 0.5167 - accuracy: 0.7598 - val_loss: 0.4394 - val_accuracy: 0.8085\n",
      "Epoch 5/100\n",
      "157/157 [==============================] - 4s 23ms/step - loss: 0.4086 - accuracy: 0.8274 - val_loss: 0.3568 - val_accuracy: 0.8430\n",
      "Epoch 6/100\n",
      "157/157 [==============================] - 4s 23ms/step - loss: 0.3430 - accuracy: 0.8505 - val_loss: 0.2882 - val_accuracy: 0.8604\n",
      "Epoch 7/100\n",
      "157/157 [==============================] - 4s 24ms/step - loss: 0.2616 - accuracy: 0.8935 - val_loss: 0.2128 - val_accuracy: 0.9212\n",
      "Epoch 8/100\n",
      "157/157 [==============================] - 4s 23ms/step - loss: 0.1918 - accuracy: 0.9282 - val_loss: 0.1442 - val_accuracy: 0.9503\n",
      "Epoch 9/100\n",
      "157/157 [==============================] - 3s 22ms/step - loss: 0.1377 - accuracy: 0.9507 - val_loss: 0.0936 - val_accuracy: 0.9658\n",
      "Epoch 10/100\n",
      "157/157 [==============================] - 4s 23ms/step - loss: 0.1028 - accuracy: 0.9618 - val_loss: 0.0908 - val_accuracy: 0.9693\n",
      "Epoch 11/100\n",
      "157/157 [==============================] - 4s 23ms/step - loss: 0.0838 - accuracy: 0.9717 - val_loss: 0.0857 - val_accuracy: 0.9703\n",
      "Epoch 12/100\n",
      "157/157 [==============================] - 4s 23ms/step - loss: 0.0684 - accuracy: 0.9762 - val_loss: 0.0772 - val_accuracy: 0.9738\n",
      "Epoch 13/100\n",
      "157/157 [==============================] - 4s 26ms/step - loss: 0.0601 - accuracy: 0.9795 - val_loss: 0.0702 - val_accuracy: 0.9769\n",
      "Epoch 14/100\n",
      "157/157 [==============================] - 4s 23ms/step - loss: 0.0528 - accuracy: 0.9819 - val_loss: 0.0695 - val_accuracy: 0.9782\n",
      "Epoch 15/100\n",
      "157/157 [==============================] - 4s 23ms/step - loss: 0.0489 - accuracy: 0.9838 - val_loss: 0.0744 - val_accuracy: 0.9763\n",
      "Epoch 16/100\n",
      "157/157 [==============================] - 4s 23ms/step - loss: 0.0404 - accuracy: 0.9863 - val_loss: 0.0839 - val_accuracy: 0.9764\n",
      "Epoch 17/100\n",
      "157/157 [==============================] - 4s 23ms/step - loss: 0.0349 - accuracy: 0.9883 - val_loss: 0.0750 - val_accuracy: 0.9789\n",
      "Epoch 18/100\n",
      "157/157 [==============================] - 4s 23ms/step - loss: 0.0316 - accuracy: 0.9891 - val_loss: 0.0734 - val_accuracy: 0.9790\n",
      "Epoch 19/100\n",
      "157/157 [==============================] - 4s 23ms/step - loss: 0.0336 - accuracy: 0.9888 - val_loss: 0.0757 - val_accuracy: 0.9800\n",
      "Epoch 20/100\n",
      "157/157 [==============================] - 3s 22ms/step - loss: 0.0302 - accuracy: 0.9900 - val_loss: 0.0790 - val_accuracy: 0.9795\n",
      "Epoch 21/100\n",
      "157/157 [==============================] - 4s 24ms/step - loss: 0.0288 - accuracy: 0.9907 - val_loss: 0.0782 - val_accuracy: 0.9793\n",
      "Epoch 22/100\n",
      "157/157 [==============================] - 4s 23ms/step - loss: 0.0270 - accuracy: 0.9910 - val_loss: 0.0787 - val_accuracy: 0.9805\n",
      "Epoch 23/100\n",
      "157/157 [==============================] - 3s 22ms/step - loss: 0.0297 - accuracy: 0.9902 - val_loss: 0.0850 - val_accuracy: 0.9774\n",
      "Epoch 24/100\n",
      "157/157 [==============================] - 4s 24ms/step - loss: 0.0251 - accuracy: 0.9915 - val_loss: 0.0830 - val_accuracy: 0.9797\n",
      "625/625 [==============================] - 2s 3ms/step - loss: 0.0653 - accuracy: 0.9779\n"
     ]
    },
    {
     "data": {
      "text/plain": [
       "[0.06528043746948242, 0.9779000282287598]"
      ]
     },
     "execution_count": 18,
     "metadata": {},
     "output_type": "execute_result"
    }
   ],
   "source": [
    "from keras import regularizers\n",
    "from keras.layers import Conv1D, MaxPooling1D, Flatten, Dense, Dropout\n",
    "from keras.models import Sequential\n",
    "from tensorflow import keras as keras\n",
    "x_train, y_train = parse_fasta(read_fasta('./sim7/train.fasta'))\n",
    "x_train = [rna_to_one_hot(i) for i in x_train]\n",
    "x_train = np.array(x_train)\n",
    "y_train = np.array(y_train)\n",
    "\n",
    "x_validation, y_validation = parse_fasta(read_fasta('./sim7/validation.fasta'))\n",
    "x_validation = [rna_to_one_hot(i) for i in x_validation]\n",
    "x_validation = np.array(x_validation)\n",
    "y_validation = np.array(y_validation)\n",
    "\n",
    "x_test, y_test = parse_fasta(read_fasta('./sim7/test.fasta'))\n",
    "x_test = [rna_to_one_hot(i) for i in x_test]\n",
    "x_test = np.array(x_test)\n",
    "y_test = np.array(y_test)\n",
    "\n",
    "\n",
    "# Define the model\n",
    "sequence_length = x_train.shape[1]\n",
    "model = Sequential()\n",
    "model.add(Conv1D(filters=32, kernel_size=20, activation='relu',\n",
    "          input_shape=(sequence_length, 4)))\n",
    "\n",
    "model.add(MaxPooling1D(pool_size=2))\n",
    "model.add(Flatten())\n",
    "model.add(Dense(units=512, activation='LeakyReLU'))\n",
    "model.add(Dropout(rate=0.5))\n",
    "model.add(Dense(units=128, activation='LeakyReLU'))\n",
    "model.add(Dropout(rate=0.5))\n",
    "model.add(Dense(units=32, activation='LeakyReLU'))\n",
    "model.add(Dropout(rate=0.5))\n",
    "model.add(Dense(units=1, activation='sigmoid'))\n",
    "\n",
    "# Compile the model\n",
    "model.compile(optimizer='adam', loss='binary_crossentropy',\n",
    "              metrics=['accuracy'])\n",
    "\n",
    "# Train the model\n",
    "model.fit(x_train, y_train, verbose=1,  \n",
    " validation_data=(x_validation, y_validation),batch_size=128, epochs=100,  \n",
    "       callbacks=[EarlyStopping(patience=10, monitor=\"val_loss\", \n",
    " restore_best_weights=True), History()])  \n",
    "\n",
    "# Evaluate the model\n",
    "model.evaluate(x_test, y_test)\n"
   ]
  },
  {
   "cell_type": "code",
   "execution_count": 19,
   "metadata": {
    "tags": []
   },
   "outputs": [
    {
     "name": "stdout",
     "output_type": "stream",
     "text": [
      "625/625 [==============================] - 3s 4ms/step\n"
     ]
    },
    {
     "data": {
      "text/plain": [
       "0.995998695"
      ]
     },
     "execution_count": 19,
     "metadata": {},
     "output_type": "execute_result"
    }
   ],
   "source": [
    "from sklearn.metrics import roc_curve\n",
    "from sklearn.metrics import auc\n",
    "y_pred = model.predict(x_test).ravel()\n",
    "fpr_keras, tpr_keras, thresholds_keras = roc_curve(y_test, y_pred)\n",
    "auc_keras = auc(fpr_keras, tpr_keras)\n",
    "auc_keras"
   ]
  },
  {
   "cell_type": "code",
   "execution_count": 20,
   "metadata": {
    "tags": []
   },
   "outputs": [
    {
     "data": {
      "image/png": "[encoded data removed]",
      "text/plain": [
       "<Figure size 640x480 with 1 Axes>"
      ]
     },
     "metadata": {},
     "output_type": "display_data"
    }
   ],
   "source": [
    "import matplotlib.pyplot as plt\n",
    "plt.plot([0, 1], [0, 1], 'k--')\n",
    "plt.plot(fpr_keras, tpr_keras, label='Keras (area = {:.3f})'.format(auc_keras))\n",
    "plt.xlabel('False positive rate')\n",
    "plt.ylabel('True positive rate')\n",
    "plt.title('ROC curve')\n",
    "plt.legend(loc='best')\n",
    "plt.show()"
   ]
  },
  {
   "cell_type": "markdown",
   "metadata": {},
   "source": [
    "## MPRA"
   ]
  },
  {
   "cell_type": "code",
   "execution_count": 3,
   "metadata": {
    "tags": []
   },
   "outputs": [],
   "source": [
    "import numpy as np\n",
    "\n",
    "def read_file(file_path):\n",
    "    with open(file_path, 'r') as f:\n",
    "        lines = f.readlines()[1:]  # Skip the header row\n",
    "    data = []\n",
    "    for line in lines:\n",
    "        row = line.strip().split('\\t')\n",
    "        x_norm = float(row[-2])\n",
    "        y_norm = float(row[-1])\n",
    "        data.append([x_norm, y_norm])\n",
    "    return np.array(data)\n",
    "\n",
    "# change fasta file into a list of sequences\n",
    "# fasta reader\n",
    "\n",
    "\n",
    "def read_fasta(file):\n",
    "    with open(file, 'r') as f:\n",
    "        lines = f.readlines()\n",
    "    return lines\n",
    "\n",
    "# fasta parser\n",
    "\n",
    "\n",
    "def parse_fasta(lines):\n",
    "    seq_list = []\n",
    "    seq_name = [line[-2] for line in lines if line.startswith('>')]\n",
    "    seq = ''\n",
    "    for line, index in zip(lines, range(len(lines))):\n",
    "        if index == len(lines) - 1:\n",
    "            seq += line.strip()\n",
    "            seq_list.append(seq)\n",
    "        if line.startswith('>'):\n",
    "            seq_list.append(seq)\n",
    "            seq = ''\n",
    "            continue\n",
    "        else:\n",
    "            seq += line.strip()\n",
    "    for i in seq_list:\n",
    "        if i == '':\n",
    "            seq_list.remove(i)\n",
    "    return seq_list, seq_name\n"
   ]
  },
  {
   "cell_type": "code",
   "execution_count": 4,
   "metadata": {
    "tags": []
   },
   "outputs": [],
   "source": [
    "x_train, _ = parse_fasta(read_fasta('./MPRA/Sequences_Train.fa'))\n",
    "x_train = [rna_to_one_hot(i) for i in x_train]\n",
    "x_train = np.array(x_train)\n",
    "y_train = read_file('./MPRA/Sequences_activity_Train.txt')\n",
    "\n",
    "x_validation, _ = parse_fasta(read_fasta('./MPRA/Sequences_Val.fa'))\n",
    "x_validation = [rna_to_one_hot(i) for i in x_validation]\n",
    "x_validation = np.array(x_validation)\n",
    "y_validation = read_file('./MPRA/Sequences_activity_Val.txt')\n",
    "\n",
    "x_test, _ = parse_fasta(read_fasta('./MPRA/Sequences_Test.fa'))\n",
    "x_test = [rna_to_one_hot(i) for i in x_test]\n",
    "x_test = np.array(x_test)\n",
    "y_test = read_file('./MPRA/Sequences_activity_Test.txt')\n"
   ]
  },
  {
   "cell_type": "code",
   "execution_count": 5,
   "metadata": {
    "tags": []
   },
   "outputs": [
    {
     "name": "stderr",
     "output_type": "stream",
     "text": [
      "2023-04-09 11:04:32.710445: I tensorflow/tsl/cuda/cudart_stub.cc:28] Could not find cuda drivers on your machine, GPU will not be used.\n",
      "2023-04-09 11:04:32.757313: I tensorflow/tsl/cuda/cudart_stub.cc:28] Could not find cuda drivers on your machine, GPU will not be used.\n",
      "2023-04-09 11:04:32.757754: I tensorflow/core/platform/cpu_feature_guard.cc:182] This TensorFlow binary is optimized to use available CPU instructions in performance-critical operations.\n",
      "To enable the following instructions: AVX2 AVX512F FMA, in other operations, rebuild TensorFlow with the appropriate compiler flags.\n",
      "2023-04-09 11:04:34.248717: W tensorflow/compiler/tf2tensorrt/utils/py_utils.cc:38] TF-TRT Warning: Could not find TensorRT\n"
     ]
    },
    {
     "name": "stdout",
     "output_type": "stream",
     "text": [
      "Epoch 1/20\n",
      "1116/1116 [==============================] - 45s 39ms/step - loss: 2.3555 - mse: 2.3555 - val_loss: 2.0813 - val_mse: 2.0813\n",
      "Epoch 2/20\n",
      "1116/1116 [==============================] - 45s 40ms/step - loss: 2.0088 - mse: 2.0088 - val_loss: 1.8627 - val_mse: 1.8627\n",
      "Epoch 3/20\n",
      "1116/1116 [==============================] - 43s 39ms/step - loss: 1.8439 - mse: 1.8439 - val_loss: 1.7601 - val_mse: 1.7601\n",
      "Epoch 4/20\n",
      "1116/1116 [==============================] - 43s 39ms/step - loss: 1.7570 - mse: 1.7570 - val_loss: 1.6790 - val_mse: 1.6790\n",
      "Epoch 5/20\n",
      "1116/1116 [==============================] - 44s 40ms/step - loss: 1.7005 - mse: 1.7005 - val_loss: 1.6618 - val_mse: 1.6618\n",
      "Epoch 6/20\n",
      "1116/1116 [==============================] - 43s 39ms/step - loss: 1.6644 - mse: 1.6644 - val_loss: 1.6477 - val_mse: 1.6477\n",
      "Epoch 7/20\n",
      "1116/1116 [==============================] - 43s 38ms/step - loss: 1.6327 - mse: 1.6327 - val_loss: 1.6371 - val_mse: 1.6371\n",
      "Epoch 8/20\n",
      "1116/1116 [==============================] - 42s 38ms/step - loss: 1.6062 - mse: 1.6062 - val_loss: 1.6325 - val_mse: 1.6325\n",
      "Epoch 9/20\n",
      "1116/1116 [==============================] - 44s 39ms/step - loss: 1.5809 - mse: 1.5809 - val_loss: 1.6371 - val_mse: 1.6371\n",
      "3418/3418 [==============================] - 13s 4ms/step - loss: 1.5908 - mse: 1.5908\n"
     ]
    },
    {
     "data": {
      "text/plain": [
       "[1.5908445119857788, 1.5908445119857788]"
      ]
     },
     "execution_count": 5,
     "metadata": {},
     "output_type": "execute_result"
    }
   ],
   "source": [
    "from tensorflow import keras as keras\n",
    "from keras import regularizers\n",
    "from keras.layers import Conv1D, MaxPooling1D, Flatten, Dense, Dropout\n",
    "from keras.models import Sequential\n",
    "from keras.callbacks import EarlyStopping, History\n",
    "\n",
    "\n",
    "# Define the model\n",
    "sequence_length = x_train.shape[1]\n",
    "model = Sequential()\n",
    "\n",
    "model.add(Conv1D(filters=64, kernel_size=15, activation='relu',\n",
    "                 input_shape=(sequence_length, 4)))\n",
    "\n",
    "model.add(MaxPooling1D(pool_size=2))\n",
    "model.add(Flatten())\n",
    "\n",
    "\n",
    "model.add(Dense(units=512, activation='LeakyReLU'))\n",
    "model.add(Dropout(rate=0.5))\n",
    "model.add(Dense(units=128, activation='LeakyReLU'))\n",
    "model.add(Dropout(rate=0.5))\n",
    "model.add(Dense(units=32, activation='LeakyReLU'))\n",
    "model.add(Dropout(rate=0.5))\n",
    "model.add(Dense(units=2, activation='linear'))\n",
    "\n",
    "# Compile the model\n",
    "model.compile(optimizer='adam', loss='mean_squared_error',  # changed loss function for regression\n",
    "              metrics=['mse'])\n",
    "\n",
    "# Train the model\n",
    "model.fit(x_train, y_train, verbose=1,\n",
    "          validation_data=(x_validation, y_validation), batch_size=256, epochs=20,\n",
    "          callbacks=[EarlyStopping(patience=0, monitor=\"val_loss\",\n",
    "                                   restore_best_weights=True), History()])\n",
    "\n",
    "# Evaluate the model\n",
    "model.evaluate(x_test, y_test)\n"
   ]
  },
  {
   "cell_type": "code",
   "execution_count": 7,
   "metadata": {
    "tags": []
   },
   "outputs": [
    {
     "name": "stdout",
     "output_type": "stream",
     "text": [
      "3418/3418 [==============================] - 13s 4ms/step\n"
     ]
    },
    {
     "data": {
      "text/plain": [
       "array([-0.4869976 , -0.56775373,  1.6459574 , ..., -0.27309537,\n",
       "        0.5779784 , -0.14990799], dtype=float32)"
      ]
     },
     "execution_count": 7,
     "metadata": {},
     "output_type": "execute_result"
    }
   ],
   "source": [
    "y_pred = model.predict(x_test).ravel()\n",
    "y_pred"
   ]
  },
  {
   "cell_type": "code",
   "execution_count": 36,
   "metadata": {
    "tags": []
   },
   "outputs": [
    {
     "data": {
      "text/plain": [
       "-0.49759614"
      ]
     },
     "execution_count": 36,
     "metadata": {},
     "output_type": "execute_result"
    }
   ],
   "source": [
    "y_pred[0]"
   ]
  },
  {
   "cell_type": "code",
   "execution_count": 34,
   "metadata": {
    "tags": []
   },
   "outputs": [
    {
     "data": {
      "text/plain": [
       "1.30334648450213"
      ]
     },
     "execution_count": 34,
     "metadata": {},
     "output_type": "execute_result"
    }
   ],
   "source": [
    "y_test[0,1]"
   ]
  },
  {
   "cell_type": "code",
   "execution_count": 37,
   "metadata": {
    "tags": []
   },
   "outputs": [
    {
     "data": {
      "text/plain": [
       "109350"
      ]
     },
     "execution_count": 37,
     "metadata": {},
     "output_type": "execute_result"
    }
   ],
   "source": [
    "len(y_test)"
   ]
  },
  {
   "cell_type": "code",
   "execution_count": 39,
   "metadata": {
    "tags": []
   },
   "outputs": [
    {
     "data": {
      "text/plain": [
       "1.733527790594978"
      ]
     },
     "execution_count": 39,
     "metadata": {},
     "output_type": "execute_result"
    }
   ],
   "source": [
    "mse_dev = 0\n",
    "for i in range(len(y_test)):\n",
    "    mse_dev += (y_pred[2 * i] - y_test[i,0])**2\n",
    "mse_dev = mse_dev/len(y_test)\n",
    "mse_dev"
   ]
  },
  {
   "cell_type": "code",
   "execution_count": 40,
   "metadata": {
    "tags": []
   },
   "outputs": [
    {
     "data": {
      "text/plain": [
       "1.5294519590423887"
      ]
     },
     "execution_count": 40,
     "metadata": {},
     "output_type": "execute_result"
    }
   ],
   "source": [
    "mse_hk = 0\n",
    "for i in range(len(y_test)):\n",
    "    mse_hk += (y_pred[2 * i + 1] - y_test[i,1])**2\n",
    "mse_hk = mse_hk/len(y_test)\n",
    "mse_hk"
   ]
  },
  {
   "cell_type": "code",
   "execution_count": 14,
   "metadata": {},
   "outputs": [
    {
     "name": "stdout",
     "output_type": "stream",
     "text": [
      "r2 score:  -0.18529448538522963\n",
      "r2 score:  0.3964346531190365\n"
     ]
    }
   ],
   "source": [
    "from sklearn.metrics import r2_score\n",
    "print('r2 score: ', r2_score(y_test[:,0], y_pred[0::2]))\n",
    "print('r2 score: ', r2_score(y_test[:,1], y_pred[1::2]))"
   ]
  },
  {
   "cell_type": "code",
   "execution_count": 13,
   "metadata": {
    "tags": []
   },
   "outputs": [
    {
     "data": {
      "text/plain": [
       "array([-0.4869976 ,  1.6459574 ,  1.5686178 , ...,  0.04771575,\n",
       "        0.01975346,  0.5779784 ], dtype=float32)"
      ]
     },
     "execution_count": 13,
     "metadata": {},
     "output_type": "execute_result"
    }
   ],
   "source": [
    "y_pred[0::2]"
   ]
  },
  {
   "cell_type": "code",
   "execution_count": null,
   "metadata": {},
   "outputs": [],
   "source": []
  }
 ],
 "metadata": {
  "kernelspec": {
   "display_name": "Python 3 (ipykernel)",
   "language": "python",
   "name": "python3"
  },
  "language_info": {
   "codemirror_mode": {
    "name": "ipython",
    "version": 3
   },
   "file_extension": ".py",
   "mimetype": "text/x-python",
   "name": "python",
   "nbconvert_exporter": "python",
   "pygments_lexer": "ipython3",
   "version": "3.10.10"
  },
  "vscode": {
   "interpreter": {
    "hash": "a8b157184e31adbcd0825866dbbe37be656ff95039ecc980f2bca93686efce88"
   }
  }
 },
 "nbformat": 4,
 "nbformat_minor": 4
}
