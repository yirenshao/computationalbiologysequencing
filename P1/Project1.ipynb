{
 "cells": [
  {
   "cell_type": "code",
   "execution_count": 117,
   "metadata": {},
   "outputs": [],
   "source": [
    "# import libraries\n",
    "import os\n",
    "import pandas as pd\n",
    "import numpy as np"
   ]
  },
  {
   "cell_type": "code",
   "execution_count": 118,
   "metadata": {},
   "outputs": [],
   "source": [
    "# fasta reader\n",
    "def read_fasta(file):\n",
    "    with open(file, 'r') as f:\n",
    "        lines = f.readlines()\n",
    "    return lines\n"
   ]
  },
  {
   "cell_type": "code",
   "execution_count": 119,
   "metadata": {},
   "outputs": [],
   "source": [
    "# fasta parser\n",
    "def parse_fasta(lines):\n",
    "    seq_list = []\n",
    "    seq=''\n",
    "    for line,index in zip(lines,range(len(lines))):\n",
    "        if index == len(lines)-1:\n",
    "            seq_list.append(seq)\n",
    "        if line.startswith('>'):\n",
    "            seq_list.append(seq)\n",
    "            seq = ''\n",
    "            continue\n",
    "        else:\n",
    "            seq += line.strip()\n",
    "    for i in seq_list:\n",
    "        if i == '':\n",
    "            seq_list.remove(i)\n",
    "    return seq_list\n"
   ]
  },
  {
   "cell_type": "code",
   "execution_count": 120,
   "metadata": {},
   "outputs": [],
   "source": [
    "# matrix txt reader\n",
    "def read_matrix(file):\n",
    "    with open(file, 'r') as f:\n",
    "        lines = f.readlines()\n",
    "    return lines\n",
    "\n",
    "\n",
    "# matrix parser\n",
    "def parse_matrix(lines):\n",
    "    matrix = []\n",
    "    for line in lines:\n",
    "        if line.startswith(' '):\n",
    "            item = line.strip().split()\n",
    "            item.insert(0, ' ')\n",
    "            matrix.append(item)\n",
    "        else:\n",
    "            matrix.append(line.strip().split())\n",
    "\n",
    "    return matrix"
   ]
  },
  {
   "cell_type": "code",
   "execution_count": 121,
   "metadata": {},
   "outputs": [
    {
     "data": {
      "text/plain": [
       "[[' ', 'A', 'G', 'C', 'T', 'N'],\n",
       " ['A', '5', '-1', '-4', '-4', '-2'],\n",
       " ['G', '-1', '5', '-4', '-4', '-2'],\n",
       " ['C', '-4', '-4', '5', '-1', '-2'],\n",
       " ['T', '-4', '-4', '-1', '5', '-2'],\n",
       " ['N', '-2', '-2', '-2', '-2', '-1']]"
      ]
     },
     "execution_count": 121,
     "metadata": {},
     "output_type": "execute_result"
    }
   ],
   "source": [
    "parse_matrix(read_matrix('matrix.txt'))"
   ]
  },
  {
   "cell_type": "code",
   "execution_count": 122,
   "metadata": {},
   "outputs": [],
   "source": [
    "# matrix to dictionary\n",
    "def matrix_to_dict(matrix):\n",
    "    matrix_dict = {}\n",
    "    for i in range(1, len(matrix)):\n",
    "        for j in range(1, len(matrix[i])):\n",
    "            matrix_dict[matrix[i][0] + matrix[0][j]] = int(matrix[i][j])\n",
    "    return matrix_dict"
   ]
  },
  {
   "cell_type": "code",
   "execution_count": 123,
   "metadata": {},
   "outputs": [],
   "source": [
    "matrix_dict = matrix_to_dict(parse_matrix(read_matrix('matrix.txt')))"
   ]
  },
  {
   "cell_type": "code",
   "execution_count": 124,
   "metadata": {},
   "outputs": [],
   "source": [
    "close_first_seq = parse_fasta(read_fasta('close-first.fasta'))\n",
    "close_second_seq = parse_fasta(read_fasta('close-second.fasta'))"
   ]
  },
  {
   "cell_type": "code",
   "execution_count": 125,
   "metadata": {},
   "outputs": [
    {
     "data": {
      "text/plain": [
       "-1"
      ]
     },
     "execution_count": 125,
     "metadata": {},
     "output_type": "execute_result"
    }
   ],
   "source": [
    "def score(term_1, term_2, matrix_dict):\n",
    "\tterm = term_1 + term_2\n",
    "\treturn matrix_dict[term]\n",
    "\n",
    "score('A', 'G', matrix_dict)\n"
   ]
  },
  {
   "cell_type": "code",
   "execution_count": 148,
   "metadata": {},
   "outputs": [],
   "source": [
    "def needleman_wunsch(seq1, seq2, score_matrix):\n",
    "    # initialize matrix\n",
    "    traceback_matrix = np.zeros((len(seq1)+1, len(seq2)+1))\n",
    "    # fill first row and column\n",
    "    for i in range(1, len(seq1)+1):\n",
    "        traceback_matrix[i, 0] = traceback_matrix[i, 0] - i\n",
    "    for j in range(1, len(seq2)+1):\n",
    "        traceback_matrix[0, j] = traceback_matrix[0, j] - j\n",
    "    #print(traceback_matrix)\n",
    "    # Set up traceback matrix\n",
    "    for i in range(1, len(seq1) + 1):\n",
    "        for j in range(1, len(seq2) + 1):\n",
    "            match = traceback_matrix[i-1, j-1] + score(seq1[i - 1], seq2[j - 1], score_matrix) + 1\n",
    "            #mismatch = traceback_matrix[i-1, j-1] + score(seq1[i-1-1], seq2[j-1-1], score_matrix)\n",
    "            delete = traceback_matrix[i-1,j] - 1\n",
    "            insert = traceback_matrix[i,j-1] - 1\n",
    "            traceback_matrix[i, j] = int(max(match, delete, insert))\n",
    "    # # Traceback\n",
    "    i = len(seq1)\n",
    "    j = len(seq2)\n",
    "    alignment_seq1 = ''\n",
    "    alignment_seq2 = ''\n",
    "    while i > 0 and j > 0:\n",
    "        if traceback_matrix[i, j] == traceback_matrix[i, j - 1] - 1:\n",
    "            alignment_seq1 = '-' + alignment_seq1\n",
    "            alignment_seq2 = seq2[j - 1] + alignment_seq2\n",
    "            j -= 1\n",
    "\n",
    "        elif traceback_matrix[i, j] == traceback_matrix[i - 1, j] - 1:\n",
    "            alignment_seq1 = seq1[i - 1] + alignment_seq1\n",
    "            alignment_seq2 = '-' + alignment_seq2\n",
    "            i -= 1\n",
    "        elif traceback_matrix[i, j] == traceback_matrix[i - 1, j -1] + score(\n",
    "                seq1[i - 1], seq2[j - 1], score_matrix) + 1:\n",
    "            alignment_seq1 = seq1[i - 1] + alignment_seq1\n",
    "            alignment_seq2 = seq2[j - 1] + alignment_seq2\n",
    "            i -= 1\n",
    "            j -= 1\n",
    "        else:\n",
    "            break\n",
    "\n",
    "    print(alignment_seq1)\n",
    "    print(alignment_seq2)\n",
    "    #return traceback_matrix"
   ]
  },
  {
   "cell_type": "code",
   "execution_count": 149,
   "metadata": {},
   "outputs": [
    {
     "name": "stdout",
     "output_type": "stream",
     "text": [
      "AGACGGAGTTCCT--TCTTGAGGCA-ATCT-GCGTCTC-A-A----TCATAGCCCTCTCTGGCTACCCGCCCGATATCAATC-CTGTTGATTATTT-CACAGCCCACAAGCCGGCCTGA-GCAAG-AACGGA--GCGCCTACCTACTTTTATGATTGGGATTACAGATTACAGACGTTT-GG-TATCTG----AGCC-ATGTCTGCCTA-TAATGATTCGGGCTGGG-CCGAAGTGCTAC-AGTAGACATTAGACATC---C-AAAGCGACGG-TGGATGA-TCTAAATACTTGG\n",
      "AGACGGAGT-CCTGCTCTTGAGGCACAT-TCGCGTCTCTAGACCCATCATAGCCCTCTCTG-CTACCCGCCCGAT-T-AATCTCTGTTGATTATTTTCACAGCCCACAAGCCGGC-TGAAGCAAGCAACGGACAGCGC-TACCTA-TTTTATG-TTGGGATTACAGATTACAGACGTTTTGGCTATC-GGCCTAGCCCATGTCTGCCTAATA-TGATTCGGGCTGGGACCGAAGTGCT-CCAGTAGACATTAGACATCGGGCCAAAGCGA-GGGTGGA--AGTCTAAATACTTGG\n"
     ]
    }
   ],
   "source": [
    "needleman_wunsch(close_first_seq[0], close_second_seq[0], matrix_dict)"
   ]
  },
  {
   "cell_type": "markdown",
   "metadata": {},
   "source": [
    "AGACGGAGTTCCT--TCTTGAGGCA-ATCT-GCGTCTC-A-A----TCATAGCCCTCTCTGGCTACCCGCCCGATATCAATC-CTGTTGATTATTT-CACAGCCCACAAGCCGGCCTGA-GCAAG-AACGGA--GCGCCTACCTACTTTTATGATTGGGATTACAGATTACAGACGTTT-GG-TATCTG----AGCC-ATGTCTGCCTA-TAATGATTCGGGCTGGG-CCGAAGTGCTAC-AGTAGACATTAGACATC---C-AAAGCGACGG-TGGATGA-TCTAAATACTTGG\n",
    "\n",
    "AGACGGAGT-CCTGCTCTTGAGGCACAT-TCGCGTCTCTAGACCCATCATAGCCCTCTCTG-CTACCCGCCCGAT-T-AATCTCTGTTGATTATTTTCACAGCCCACAAGCCGGC-TGAAGCAAGCAACGGACAGCGC-TACCTA-TTTTATG-TTGGGATTACAGATTACAGACGTTTTGGCTATC-GGCCTAGCCCATGTCTGCCTAATA-TGATTCGGGCTGGGACCGAAGTGCT-CCAGTAGACATTAGACATCGGGCCAAAGCGA-GGGTGGA--AGTCTAAATACTTGG"
   ]
  },
  {
   "cell_type": "code",
   "execution_count": null,
   "metadata": {},
   "outputs": [],
   "source": [
    "    # Set up traceback matrix\n",
    "    for i in range(1, len(seq1)+1):\n",
    "        for j in range(1, len(seq2)+1):\n",
    "            match = traceback_matrix[i-1, j-1] + score(seq1[i-1-1], seq2[j-1-1], score_matrix) + 1\n",
    "            #mismatch = traceback_matrix[i-1, j-1] + score(seq1[i-1-1], seq2[j-1-1], score_matrix)\n",
    "            delete = traceback_matrix[i-1, j] + score(seq1[i-1-1], seq2[j-1], score_matrix) - 1\n",
    "            insert = traceback_matrix[i, j-1] + score(seq1[i-1], seq2[j-1-1], score_matrix) - 1\n",
    "            traceback_matrix[i, j] = max(match, delete, insert)\n",
    "\n",
    "\n",
    "    # Traceback\n",
    "    i = len(seq1)\n",
    "    j = len(seq2)\n",
    "    alignment_seq1 = ''\n",
    "    alignment_seq2 = ''\n",
    "    while i > 0 and j > 0:\n",
    "        if traceback_matrix[i, j] == traceback_matrix[i-1, j-1] + 1:\n",
    "            alignment_seq1 = seq1[i-1] + alignment_seq1\n",
    "            alignment_seq2 = seq2[j-1] + alignment_seq2\n",
    "            i -= 1\n",
    "            j -= 1\n",
    "        elif traceback_matrix[i, j] == traceback_matrix[i-1, j] - 1:\n",
    "            alignment_seq1 = seq1[i-1] + alignment_seq1\n",
    "            alignment_seq2 = '-' + alignment_seq2\n",
    "            i -= 1\n",
    "        else:\n",
    "            alignment_seq1 = '-' + alignment_seq1\n",
    "            alignment_seq2 = seq2[j-1] + alignment_seq2\n",
    "            j -= 1\n",
    "    print(alignment_seq1)\n",
    "    print(alignment_seq2)"
   ]
  }
 ],
 "metadata": {
  "kernelspec": {
   "display_name": "Python 3 (ipykernel)",
   "language": "python",
   "name": "python3"
  },
  "language_info": {
   "codemirror_mode": {
    "name": "ipython",
    "version": 3
   },
   "file_extension": ".py",
   "mimetype": "text/x-python",
   "name": "python",
   "nbconvert_exporter": "python",
   "pygments_lexer": "ipython3",
   "version": "3.10.9"
  },
  "vscode": {
   "interpreter": {
    "hash": "494e90f4736fb12b587527300dd9367ba3b400830d201365c2a649427d1ca1c7"
   }
  }
 },
 "nbformat": 4,
 "nbformat_minor": 4
}
